{
 "cells": [
  {
   "cell_type": "markdown",
   "id": "6846d7f3",
   "metadata": {
    "papermill": {
     "duration": 0.022072,
     "end_time": "2024-03-04T08:48:36.068085",
     "exception": false,
     "start_time": "2024-03-04T08:48:36.046013",
     "status": "completed"
    },
    "tags": []
   },
   "source": [
    "<b><h1 style=\"font-family:verdana;\"> <center>🌞 Welcome to My Notebook! 🌞</center> </h1></b>\n",
    "<b><h2 style=\"font-family:verdana;\"> <center>📚 Create a Better &amp; Easy Model : The Tutorial for Beginners 📚</center> </h2></b><br>\n",
    "\n",
    "***\n",
    "\n",
    "<div style=\"font-size:120%\"> <br>\n",
    "    <center>\n",
    "        <b>NOTICE</b>: This notebook is designed for 🌱<b>beginners</b>🌱 to practice <b>Hyperparameter Tuning with Optuna and Machine Learning with LightGBM</b>. <br>The dataset used here requires minimal preprocessing, which will aid in quickly grasping the machine learning process.<br><br>\n",
    "        In particular, <b>detailed explanations</b> have been provided for each step to make it easy for beginners to understand. <br>Follow along with the tutorial and try to comprehend each step!📈🎯</center><br><br><center>✨✨✨</div><br><br>\n",
    "        <b>📌 MESSAGE</b> Please keep in mind that, I am a beginner and on my learning journey as most of you. I just want to share something that will be useful for many kagglers working hard on their notebooks. If you find this notebook useful in anyway, please <b>💗upvote💗</b> it so that it can reach a bigger audience. You can share it with your fellow kagglers.\n",
    "        </div>\n",
    "    </div>\n",
    "    \n",
    "\n",
    "***"
   ]
  },
  {
   "cell_type": "markdown",
   "id": "aa7e63cb",
   "metadata": {
    "papermill": {
     "duration": 0.020811,
     "end_time": "2024-03-04T08:48:36.110310",
     "exception": false,
     "start_time": "2024-03-04T08:48:36.089499",
     "status": "completed"
    },
    "tags": []
   },
   "source": [
    "# ✨Table of Contents✨\n",
    "0. [Outline](#ch0)<br>\n",
    "1. [Load Data](#ch1)<br>\n",
    "2. [Data Exploration](#ch2)\n",
    "3. [Statistical Analysis](#ch3)\n",
    "    - 3.1 [Independent Samples t-test](#ch3.1)\n",
    "    - 3.2 [Analysis of Variance(ANOVA)](#ch3.2)\n",
    "    - 3.3 [Independence test (Chi-square test)](#ch3.3)\n",
    "4. [Preprocessing](#ch4)\n",
    "5. [Modeling](#ch5)\n",
    "    - 5.1 [Hyperparameter Tuning](#ch5.1)\n",
    "    - 5.2 [LGBMClassifier](#ch5.2)\n",
    "6. [Project Evaluation](#ch6)\n",
    "7. [Lesson Learned](#ch7)"
   ]
  },
  {
   "cell_type": "markdown",
   "id": "9e38d462",
   "metadata": {
    "execution": {
     "iopub.execute_input": "2024-02-23T06:03:56.255777Z",
     "iopub.status.busy": "2024-02-23T06:03:56.254769Z",
     "iopub.status.idle": "2024-02-23T06:03:56.280995Z",
     "shell.execute_reply": "2024-02-23T06:03:56.27872Z",
     "shell.execute_reply.started": "2024-02-23T06:03:56.255729Z"
    },
    "papermill": {
     "duration": 0.020451,
     "end_time": "2024-03-04T08:48:36.151081",
     "exception": false,
     "start_time": "2024-03-04T08:48:36.130630",
     "status": "completed"
    },
    "tags": []
   },
   "source": [
    "# 0. Introduction<a class='anchor' id='ch0'></a>\n",
    "<div style=\"font-size:120%\"> \n",
    "In modern society, obesity has emerged as a serious health issue. Obesity not only leads to health problems such as diabetes, cardiovascular diseases, and arthritis but also incurs national-level expenses for managing and treating the health of citizens. Today, we will predict the risk of obesity using factors such as age, family history of obesity, and dietary habits.<br><br>\n",
    "    <b>Dataset Description:</b>\n",
    "</div>\n",
    "\n",
    "| Column | Full Form | Description| \n",
    "|---|---|---|\n",
    "| 'id'| id | Unique for each person(row)|\n",
    "|'Gender'| Gender| person's Gender|\n",
    "| 'Age' | Age| Dtype is float. Age is between 14 years to 61 years |\n",
    "|'Height'| Height | Height is in meter it's between 1.45m to 1.98m|\n",
    "| 'Weight' | Weight| Weight is between 39 to 165. I think it's in KG.|\n",
    "|'family_history_with_overweight'| family history <br> with overweight| yes or no question|\n",
    "| 'FAVC'| Frequent consumption <br> of high calorie food| it's yes or no question. i think question they asked is <br>do you consume high calorie food|\n",
    "|'FCVC'|  Frequency of <br>consumption of vegetables| Similar to FAVC. this is also `yes or no` question|\n",
    "|'NCP'| Number of main meals| dtype is float, NCP is between 1 & 4. I think it should be 1,2,3,4 <br>but our data is synthetic so it's taking float values|\n",
    "|'CAEC'| Consumption of <br>food between meals| takes 4 values `Sometimes`, `Frequently`, `no`, & `Always` <br>|\n",
    "| 'SMOKE'| Smoke | yes or no question. i think the question is \"Do you smoke?\" |\n",
    "|'CH2O'| Consumption of <br>water daily| CH2O takes values between 1 & 3. again it's given as <br>float may be because of synthetic data. it's values should be 1,2 or 3|\n",
    "|'SCC'|  Calories consumption <br>monitoring| yes or no question|\n",
    "|'FAF'| Physical activity <br>frequency| FAF is between 0 to 3, 0 means no physical activity<br> and 3 means high workout. and again, in our data it's given as float|\n",
    "|'TUE'| Time using <br>technology devices| TUE is between 0 to 2. I think question will be \"How long you have <br>been using technology devices to track your health.\" in our data it's given as float |\n",
    "|'CALC'| Consumption of alcohol | Takes 4 values: `Sometimes`, `no`, `Frequently`, & `Always`|\n",
    "| 'MTRANS' | Transportation used| MTRANS takes 5 values `Public_Transportation`, `Automobile`, <br>`Walking`, `Motorbike`, & `Bike`|\n",
    "|'NObeyesdad'| TARGET | This is our target, takes 7 values, and in this comp. we have to give <br>the class name (Not the Probability, which is the case in most comp.)\n",
    "\n",
    "\n",
    "<div style=\"font-size:120%\"> \n",
    "    <b>NObeyesdad (Target Variable):</b>\n",
    "</div>\n",
    "\n",
    "* Insufficient_Weight : Less than 18.5\n",
    "* Normal_Weight       : 18.5 to 24.9\n",
    "* Overweight_Level_I, Overweight_Level_II : 25.0 to 29.9\n",
    "* Obesity_Type_I      : 30.0 to 34.9\n",
    "* Obesity_Type_II     : 35.0 to 39.9\n",
    "* Obesity_Type_III   : Higher than 40"
   ]
  },
  {
   "cell_type": "markdown",
   "id": "dd1dd5e7",
   "metadata": {
    "papermill": {
     "duration": 0.02104,
     "end_time": "2024-03-04T08:48:36.194533",
     "exception": false,
     "start_time": "2024-03-04T08:48:36.173493",
     "status": "completed"
    },
    "tags": []
   },
   "source": [
    "## Libraries\n",
    "Generally, libraries necessary for the entire process are listed at the top. However, I will import libraries as needed, at the moment, to facilitate understanding of each library."
   ]
  },
  {
   "cell_type": "markdown",
   "id": "4097c736",
   "metadata": {
    "papermill": {
     "duration": 0.022235,
     "end_time": "2024-03-04T08:48:36.240052",
     "exception": false,
     "start_time": "2024-03-04T08:48:36.217817",
     "status": "completed"
    },
    "tags": []
   },
   "source": [
    "- Data Importing\n",
    "    - pandas\n",
    "    - numpy\n",
    "- For Clearer Output\n",
    "    - warnings\n",
    "- Visualization\n",
    "    - matplotlib\n",
    "    - seaborn\n",
    "- Statistical Analysis\n",
    "    - pingouin(Installation needed)\n",
    "    - scipy\n",
    "- Preprocessing\n",
    "    - sklearn(LabelEncoder, StandardScaler)\n",
    "- Data Separation\n",
    "    - train_train\n",
    "- Hyperparameter Tuning\n",
    "    - Optuna(Installation needed)\n",
    "- Modeling\n",
    "    - LightGBMClassifier"
   ]
  },
  {
   "cell_type": "markdown",
   "id": "e4dcd2e7",
   "metadata": {
    "papermill": {
     "duration": 0.021465,
     "end_time": "2024-03-04T08:48:36.286250",
     "exception": false,
     "start_time": "2024-03-04T08:48:36.264785",
     "status": "completed"
    },
    "tags": []
   },
   "source": [
    "# 1. Load Data<a class='anchor' id='ch1'></a>"
   ]
  },
  {
   "cell_type": "markdown",
   "id": "cb645ae4",
   "metadata": {
    "papermill": {
     "duration": 0.020423,
     "end_time": "2024-03-04T08:48:36.327823",
     "exception": false,
     "start_time": "2024-03-04T08:48:36.307400",
     "status": "completed"
    },
    "tags": []
   },
   "source": [
    "#### 🔔 Notice: I imported the original data used in the competition to improve prediction performance, adhering to the rules of the competition. \n",
    "> https://www.kaggle.com/datasets/aravindpcoder/obesity-or-cvd-risk-classifyregressorcluster\n",
    "C. External Data. You may use data other than the Competition Data (“External Data”) to develop and test your Submissions. However, you will ensure the External Data is publicly available to use by all participants of the Competition for purposes of the competition at no cost to the other participants. The ability to use External Data under this Section 7.C (External Data) does not limit your other obligations under these Competition Rules, including but not limited to Section 11 (Winners Obligations)."
   ]
  },
  {
   "cell_type": "code",
   "execution_count": 1,
   "id": "7bdf066a",
   "metadata": {
    "_kg_hide-input": true,
    "execution": {
     "iopub.execute_input": "2024-03-04T08:48:36.372513Z",
     "iopub.status.busy": "2024-03-04T08:48:36.371577Z",
     "iopub.status.idle": "2024-03-04T08:48:37.609397Z",
     "shell.execute_reply": "2024-03-04T08:48:37.608220Z"
    },
    "papermill": {
     "duration": 1.263422,
     "end_time": "2024-03-04T08:48:37.612298",
     "exception": false,
     "start_time": "2024-03-04T08:48:36.348876",
     "status": "completed"
    },
    "tags": []
   },
   "outputs": [],
   "source": [
    "import pandas as pd\n",
    "train_data = pd.read_csv(\"/kaggle/input/playground-series-s4e2/train.csv\")\n",
    "test_data = pd.read_csv(\"/kaggle/input/playground-series-s4e2/test.csv\")\n",
    "original_data = pd.read_csv(\"/kaggle/input/obesity-or-cvd-risk-classifyregressorcluster/ObesityDataSet.csv\")\n",
    "sample_submission_data = pd.read_csv(\"/kaggle/input/playground-series-s4e2/sample_submission.csv\")"
   ]
  },
  {
   "cell_type": "code",
   "execution_count": 2,
   "id": "aa49cf9d",
   "metadata": {
    "execution": {
     "iopub.execute_input": "2024-03-04T08:48:37.655119Z",
     "iopub.status.busy": "2024-03-04T08:48:37.654683Z",
     "iopub.status.idle": "2024-03-04T08:48:37.662382Z",
     "shell.execute_reply": "2024-03-04T08:48:37.661515Z"
    },
    "papermill": {
     "duration": 0.03189,
     "end_time": "2024-03-04T08:48:37.664921",
     "exception": false,
     "start_time": "2024-03-04T08:48:37.633031",
     "status": "completed"
    },
    "tags": []
   },
   "outputs": [
    {
     "data": {
      "text/plain": [
       "(20758, 2111)"
      ]
     },
     "execution_count": 2,
     "metadata": {},
     "output_type": "execute_result"
    }
   ],
   "source": [
    "train_data.shape[0], original_data.shape[0]"
   ]
  },
  {
   "cell_type": "markdown",
   "id": "4071abe5",
   "metadata": {
    "papermill": {
     "duration": 0.020947,
     "end_time": "2024-03-04T08:48:37.706957",
     "exception": false,
     "start_time": "2024-03-04T08:48:37.686010",
     "status": "completed"
    },
    "tags": []
   },
   "source": [
    "# 2. Data Exploration<a class='anchor' id='ch2'></a>"
   ]
  },
  {
   "cell_type": "code",
   "execution_count": 3,
   "id": "4e705617",
   "metadata": {
    "_kg_hide-input": true,
    "execution": {
     "iopub.execute_input": "2024-03-04T08:48:37.750713Z",
     "iopub.status.busy": "2024-03-04T08:48:37.750005Z",
     "iopub.status.idle": "2024-03-04T08:48:37.756251Z",
     "shell.execute_reply": "2024-03-04T08:48:37.755047Z"
    },
    "papermill": {
     "duration": 0.031596,
     "end_time": "2024-03-04T08:48:37.758945",
     "exception": false,
     "start_time": "2024-03-04T08:48:37.727349",
     "status": "completed"
    },
    "tags": []
   },
   "outputs": [],
   "source": [
    "import numpy as np"
   ]
  },
  {
   "cell_type": "code",
   "execution_count": 4,
   "id": "176c2f04",
   "metadata": {
    "execution": {
     "iopub.execute_input": "2024-03-04T08:48:37.802032Z",
     "iopub.status.busy": "2024-03-04T08:48:37.801525Z",
     "iopub.status.idle": "2024-03-04T08:48:37.853375Z",
     "shell.execute_reply": "2024-03-04T08:48:37.851951Z"
    },
    "papermill": {
     "duration": 0.076731,
     "end_time": "2024-03-04T08:48:37.856467",
     "exception": false,
     "start_time": "2024-03-04T08:48:37.779736",
     "status": "completed"
    },
    "tags": []
   },
   "outputs": [
    {
     "name": "stdout",
     "output_type": "stream",
     "text": [
      "<class 'pandas.core.frame.DataFrame'>\n",
      "RangeIndex: 20758 entries, 0 to 20757\n",
      "Data columns (total 18 columns):\n",
      " #   Column                          Non-Null Count  Dtype  \n",
      "---  ------                          --------------  -----  \n",
      " 0   id                              20758 non-null  int64  \n",
      " 1   Gender                          20758 non-null  object \n",
      " 2   Age                             20758 non-null  float64\n",
      " 3   Height                          20758 non-null  float64\n",
      " 4   Weight                          20758 non-null  float64\n",
      " 5   family_history_with_overweight  20758 non-null  object \n",
      " 6   FAVC                            20758 non-null  object \n",
      " 7   FCVC                            20758 non-null  float64\n",
      " 8   NCP                             20758 non-null  float64\n",
      " 9   CAEC                            20758 non-null  object \n",
      " 10  SMOKE                           20758 non-null  object \n",
      " 11  CH2O                            20758 non-null  float64\n",
      " 12  SCC                             20758 non-null  object \n",
      " 13  FAF                             20758 non-null  float64\n",
      " 14  TUE                             20758 non-null  float64\n",
      " 15  CALC                            20758 non-null  object \n",
      " 16  MTRANS                          20758 non-null  object \n",
      " 17  NObeyesdad                      20758 non-null  object \n",
      "dtypes: float64(8), int64(1), object(9)\n",
      "memory usage: 2.9+ MB\n"
     ]
    }
   ],
   "source": [
    "train_data.info()"
   ]
  },
  {
   "cell_type": "markdown",
   "id": "8ee3ffba",
   "metadata": {
    "papermill": {
     "duration": 0.02179,
     "end_time": "2024-03-04T08:48:37.899842",
     "exception": false,
     "start_time": "2024-03-04T08:48:37.878052",
     "status": "completed"
    },
    "tags": []
   },
   "source": [
    "## Null Values"
   ]
  },
  {
   "cell_type": "code",
   "execution_count": 5,
   "id": "322449b5",
   "metadata": {
    "execution": {
     "iopub.execute_input": "2024-03-04T08:48:37.948026Z",
     "iopub.status.busy": "2024-03-04T08:48:37.947026Z",
     "iopub.status.idle": "2024-03-04T08:48:37.974692Z",
     "shell.execute_reply": "2024-03-04T08:48:37.973353Z"
    },
    "papermill": {
     "duration": 0.054671,
     "end_time": "2024-03-04T08:48:37.977361",
     "exception": false,
     "start_time": "2024-03-04T08:48:37.922690",
     "status": "completed"
    },
    "tags": []
   },
   "outputs": [
    {
     "name": "stdout",
     "output_type": "stream",
     "text": [
      "There is no null value in this data.\n"
     ]
    }
   ],
   "source": [
    "if train_data.isnull().sum().sum() == 0:\n",
    "    print('There is no null value in this data.')"
   ]
  },
  {
   "cell_type": "markdown",
   "id": "269d67d0",
   "metadata": {
    "papermill": {
     "duration": 0.02103,
     "end_time": "2024-03-04T08:48:38.019013",
     "exception": false,
     "start_time": "2024-03-04T08:48:37.997983",
     "status": "completed"
    },
    "tags": []
   },
   "source": [
    "## Duplicated Values"
   ]
  },
  {
   "cell_type": "code",
   "execution_count": 6,
   "id": "36adbdb7",
   "metadata": {
    "execution": {
     "iopub.execute_input": "2024-03-04T08:48:38.063295Z",
     "iopub.status.busy": "2024-03-04T08:48:38.062900Z",
     "iopub.status.idle": "2024-03-04T08:48:38.096021Z",
     "shell.execute_reply": "2024-03-04T08:48:38.094861Z"
    },
    "papermill": {
     "duration": 0.05869,
     "end_time": "2024-03-04T08:48:38.098738",
     "exception": false,
     "start_time": "2024-03-04T08:48:38.040048",
     "status": "completed"
    },
    "tags": []
   },
   "outputs": [
    {
     "data": {
      "text/plain": [
       "0"
      ]
     },
     "execution_count": 6,
     "metadata": {},
     "output_type": "execute_result"
    }
   ],
   "source": [
    "train_data.duplicated().sum()"
   ]
  },
  {
   "cell_type": "code",
   "execution_count": 7,
   "id": "b46593a5",
   "metadata": {
    "execution": {
     "iopub.execute_input": "2024-03-04T08:48:38.146760Z",
     "iopub.status.busy": "2024-03-04T08:48:38.146169Z",
     "iopub.status.idle": "2024-03-04T08:48:38.161504Z",
     "shell.execute_reply": "2024-03-04T08:48:38.159734Z"
    },
    "papermill": {
     "duration": 0.042999,
     "end_time": "2024-03-04T08:48:38.164313",
     "exception": false,
     "start_time": "2024-03-04T08:48:38.121314",
     "status": "completed"
    },
    "tags": []
   },
   "outputs": [
    {
     "data": {
      "text/plain": [
       "24"
      ]
     },
     "execution_count": 7,
     "metadata": {},
     "output_type": "execute_result"
    }
   ],
   "source": [
    "original_data.duplicated().sum()"
   ]
  },
  {
   "cell_type": "markdown",
   "id": "7d57fa63",
   "metadata": {
    "papermill": {
     "duration": 0.021759,
     "end_time": "2024-03-04T08:48:38.207770",
     "exception": false,
     "start_time": "2024-03-04T08:48:38.186011",
     "status": "completed"
    },
    "tags": []
   },
   "source": [
    "Considering that the original data is generated from online survey, we can check that there are some duplicated data in original data."
   ]
  },
  {
   "cell_type": "markdown",
   "id": "f1a54043",
   "metadata": {
    "papermill": {
     "duration": 0.020438,
     "end_time": "2024-03-04T08:48:38.249015",
     "exception": false,
     "start_time": "2024-03-04T08:48:38.228577",
     "status": "completed"
    },
    "tags": []
   },
   "source": [
    "## Data Distribution"
   ]
  },
  {
   "cell_type": "code",
   "execution_count": 8,
   "id": "3d434359",
   "metadata": {
    "execution": {
     "iopub.execute_input": "2024-03-04T08:48:38.296183Z",
     "iopub.status.busy": "2024-03-04T08:48:38.295761Z",
     "iopub.status.idle": "2024-03-04T08:48:38.349284Z",
     "shell.execute_reply": "2024-03-04T08:48:38.348011Z"
    },
    "papermill": {
     "duration": 0.079532,
     "end_time": "2024-03-04T08:48:38.352325",
     "exception": false,
     "start_time": "2024-03-04T08:48:38.272793",
     "status": "completed"
    },
    "tags": []
   },
   "outputs": [
    {
     "data": {
      "text/html": [
       "<div>\n",
       "<style scoped>\n",
       "    .dataframe tbody tr th:only-of-type {\n",
       "        vertical-align: middle;\n",
       "    }\n",
       "\n",
       "    .dataframe tbody tr th {\n",
       "        vertical-align: top;\n",
       "    }\n",
       "\n",
       "    .dataframe thead th {\n",
       "        text-align: right;\n",
       "    }\n",
       "</style>\n",
       "<table border=\"1\" class=\"dataframe\">\n",
       "  <thead>\n",
       "    <tr style=\"text-align: right;\">\n",
       "      <th></th>\n",
       "      <th>id</th>\n",
       "      <th>Age</th>\n",
       "      <th>Height</th>\n",
       "      <th>Weight</th>\n",
       "      <th>FCVC</th>\n",
       "      <th>NCP</th>\n",
       "      <th>CH2O</th>\n",
       "      <th>FAF</th>\n",
       "      <th>TUE</th>\n",
       "    </tr>\n",
       "  </thead>\n",
       "  <tbody>\n",
       "    <tr>\n",
       "      <th>count</th>\n",
       "      <td>20758.00000</td>\n",
       "      <td>20758.000000</td>\n",
       "      <td>20758.000000</td>\n",
       "      <td>20758.000000</td>\n",
       "      <td>20758.000000</td>\n",
       "      <td>20758.000000</td>\n",
       "      <td>20758.000000</td>\n",
       "      <td>20758.000000</td>\n",
       "      <td>20758.000000</td>\n",
       "    </tr>\n",
       "    <tr>\n",
       "      <th>mean</th>\n",
       "      <td>10378.50000</td>\n",
       "      <td>23.841804</td>\n",
       "      <td>1.700245</td>\n",
       "      <td>87.887768</td>\n",
       "      <td>2.445908</td>\n",
       "      <td>2.761332</td>\n",
       "      <td>2.029418</td>\n",
       "      <td>0.981747</td>\n",
       "      <td>0.616756</td>\n",
       "    </tr>\n",
       "    <tr>\n",
       "      <th>std</th>\n",
       "      <td>5992.46278</td>\n",
       "      <td>5.688072</td>\n",
       "      <td>0.087312</td>\n",
       "      <td>26.379443</td>\n",
       "      <td>0.533218</td>\n",
       "      <td>0.705375</td>\n",
       "      <td>0.608467</td>\n",
       "      <td>0.838302</td>\n",
       "      <td>0.602113</td>\n",
       "    </tr>\n",
       "    <tr>\n",
       "      <th>min</th>\n",
       "      <td>0.00000</td>\n",
       "      <td>14.000000</td>\n",
       "      <td>1.450000</td>\n",
       "      <td>39.000000</td>\n",
       "      <td>1.000000</td>\n",
       "      <td>1.000000</td>\n",
       "      <td>1.000000</td>\n",
       "      <td>0.000000</td>\n",
       "      <td>0.000000</td>\n",
       "    </tr>\n",
       "    <tr>\n",
       "      <th>25%</th>\n",
       "      <td>5189.25000</td>\n",
       "      <td>20.000000</td>\n",
       "      <td>1.631856</td>\n",
       "      <td>66.000000</td>\n",
       "      <td>2.000000</td>\n",
       "      <td>3.000000</td>\n",
       "      <td>1.792022</td>\n",
       "      <td>0.008013</td>\n",
       "      <td>0.000000</td>\n",
       "    </tr>\n",
       "    <tr>\n",
       "      <th>50%</th>\n",
       "      <td>10378.50000</td>\n",
       "      <td>22.815416</td>\n",
       "      <td>1.700000</td>\n",
       "      <td>84.064875</td>\n",
       "      <td>2.393837</td>\n",
       "      <td>3.000000</td>\n",
       "      <td>2.000000</td>\n",
       "      <td>1.000000</td>\n",
       "      <td>0.573887</td>\n",
       "    </tr>\n",
       "    <tr>\n",
       "      <th>75%</th>\n",
       "      <td>15567.75000</td>\n",
       "      <td>26.000000</td>\n",
       "      <td>1.762887</td>\n",
       "      <td>111.600553</td>\n",
       "      <td>3.000000</td>\n",
       "      <td>3.000000</td>\n",
       "      <td>2.549617</td>\n",
       "      <td>1.587406</td>\n",
       "      <td>1.000000</td>\n",
       "    </tr>\n",
       "    <tr>\n",
       "      <th>max</th>\n",
       "      <td>20757.00000</td>\n",
       "      <td>61.000000</td>\n",
       "      <td>1.975663</td>\n",
       "      <td>165.057269</td>\n",
       "      <td>3.000000</td>\n",
       "      <td>4.000000</td>\n",
       "      <td>3.000000</td>\n",
       "      <td>3.000000</td>\n",
       "      <td>2.000000</td>\n",
       "    </tr>\n",
       "  </tbody>\n",
       "</table>\n",
       "</div>"
      ],
      "text/plain": [
       "                id           Age        Height        Weight          FCVC  \\\n",
       "count  20758.00000  20758.000000  20758.000000  20758.000000  20758.000000   \n",
       "mean   10378.50000     23.841804      1.700245     87.887768      2.445908   \n",
       "std     5992.46278      5.688072      0.087312     26.379443      0.533218   \n",
       "min        0.00000     14.000000      1.450000     39.000000      1.000000   \n",
       "25%     5189.25000     20.000000      1.631856     66.000000      2.000000   \n",
       "50%    10378.50000     22.815416      1.700000     84.064875      2.393837   \n",
       "75%    15567.75000     26.000000      1.762887    111.600553      3.000000   \n",
       "max    20757.00000     61.000000      1.975663    165.057269      3.000000   \n",
       "\n",
       "                NCP          CH2O           FAF           TUE  \n",
       "count  20758.000000  20758.000000  20758.000000  20758.000000  \n",
       "mean       2.761332      2.029418      0.981747      0.616756  \n",
       "std        0.705375      0.608467      0.838302      0.602113  \n",
       "min        1.000000      1.000000      0.000000      0.000000  \n",
       "25%        3.000000      1.792022      0.008013      0.000000  \n",
       "50%        3.000000      2.000000      1.000000      0.573887  \n",
       "75%        3.000000      2.549617      1.587406      1.000000  \n",
       "max        4.000000      3.000000      3.000000      2.000000  "
      ]
     },
     "execution_count": 8,
     "metadata": {},
     "output_type": "execute_result"
    }
   ],
   "source": [
    "train_data.describe()"
   ]
  },
  {
   "cell_type": "markdown",
   "id": "5930ac7b",
   "metadata": {
    "papermill": {
     "duration": 0.020869,
     "end_time": "2024-03-04T08:48:38.395382",
     "exception": false,
     "start_time": "2024-03-04T08:48:38.374513",
     "status": "completed"
    },
    "tags": []
   },
   "source": [
    "Interestingly, even integer data such as age is represented as floating-point numbers, which I believe is because the data provided in this competition was created by a deep learning model trained on original data."
   ]
  },
  {
   "cell_type": "markdown",
   "id": "7b43d1c6",
   "metadata": {
    "papermill": {
     "duration": 0.090263,
     "end_time": "2024-03-04T08:48:38.506762",
     "exception": false,
     "start_time": "2024-03-04T08:48:38.416499",
     "status": "completed"
    },
    "tags": []
   },
   "source": [
    "# 3. Statistical Analysis<a class='anchor' id='ch3'></a>\n"
   ]
  },
  {
   "cell_type": "markdown",
   "id": "a164e3fa",
   "metadata": {
    "papermill": {
     "duration": 0.021363,
     "end_time": "2024-03-04T08:48:38.550811",
     "exception": false,
     "start_time": "2024-03-04T08:48:38.529448",
     "status": "completed"
    },
    "tags": []
   },
   "source": [
    "To formulate hypotheses about this data and test them, let's perform a statistical analysis. \n",
    "\n",
    "<div class=\"alert alert-block alert-info\">\n",
    "        <b>📌 MESSAGE</b> For beginners who have difficulty with each step of statistical analysis and writing code, we've consolidated the process from checking assumptions to outputting results using user-defined functions. If you like it, feel free to use it and apply it! \n",
    "</div>"
   ]
  },
  {
   "cell_type": "markdown",
   "id": "7d2f257e",
   "metadata": {
    "papermill": {
     "duration": 0.021883,
     "end_time": "2024-03-04T08:48:38.594166",
     "exception": false,
     "start_time": "2024-03-04T08:48:38.572283",
     "status": "completed"
    },
    "tags": []
   },
   "source": [
    "## 3.1 Independent Samples t-test<a class='anchor' id='ch3.1'></a>"
   ]
  },
  {
   "cell_type": "code",
   "execution_count": 9,
   "id": "ef963358",
   "metadata": {
    "execution": {
     "iopub.execute_input": "2024-03-04T08:48:38.640631Z",
     "iopub.status.busy": "2024-03-04T08:48:38.640175Z",
     "iopub.status.idle": "2024-03-04T08:48:38.647316Z",
     "shell.execute_reply": "2024-03-04T08:48:38.646391Z"
    },
    "papermill": {
     "duration": 0.034093,
     "end_time": "2024-03-04T08:48:38.650011",
     "exception": false,
     "start_time": "2024-03-04T08:48:38.615918",
     "status": "completed"
    },
    "tags": []
   },
   "outputs": [],
   "source": [
    "train_data1 = train_data.loc[:]\n",
    "train_data1['BMI'] = train_data1['Weight'] / (train_data1['Height'] ** 2)"
   ]
  },
  {
   "cell_type": "markdown",
   "id": "6bdb91b9",
   "metadata": {
    "papermill": {
     "duration": 0.021534,
     "end_time": "2024-03-04T08:48:38.696221",
     "exception": false,
     "start_time": "2024-03-04T08:48:38.674687",
     "status": "completed"
    },
    "tags": []
   },
   "source": [
    "To perform an independent-samples t-test, we created a continuous variable, BMI, that is similar to our dependent variable. "
   ]
  },
  {
   "cell_type": "code",
   "execution_count": 10,
   "id": "556fcff3",
   "metadata": {
    "execution": {
     "iopub.execute_input": "2024-03-04T08:48:38.741712Z",
     "iopub.status.busy": "2024-03-04T08:48:38.741288Z",
     "iopub.status.idle": "2024-03-04T08:48:39.940594Z",
     "shell.execute_reply": "2024-03-04T08:48:39.939347Z"
    },
    "papermill": {
     "duration": 1.225394,
     "end_time": "2024-03-04T08:48:39.943893",
     "exception": false,
     "start_time": "2024-03-04T08:48:38.718499",
     "status": "completed"
    },
    "tags": []
   },
   "outputs": [
    {
     "name": "stdout",
     "output_type": "stream",
     "text": [
      "LeveneResult(statistic=18.27066783858734, pvalue=1.9249002397587044e-05)\n",
      "TtestResult(statistic=2.3096092658595437, pvalue=0.021716004019022104, df=252.85312691209919)\n",
      "There is a difference in BMI based on smoking status.\n"
     ]
    }
   ],
   "source": [
    "# whether smoking status affects the degree of obesity\n",
    "# with BMI(continuous)\n",
    "# H0: Smoking affects\n",
    "# H1: Smoking doesn't affect\n",
    "import scipy.stats as stats\n",
    "from scipy.stats import ttest_1samp\n",
    "\n",
    "smoker = train_data1.loc[train_data1['SMOKE']=='yes', 'BMI']\n",
    "non_smoker = train_data1.loc[train_data1['SMOKE']=='no', 'BMI']\n",
    "\n",
    "# levene-test\n",
    "print(stats.levene(smoker, non_smoker)) \n",
    " # Homogeneity of variances is not satisfied\n",
    "\n",
    "# ttest_ind\n",
    "print(stats.ttest_ind(smoker, non_smoker, equal_var=False))\n",
    "pval = stats.ttest_ind(smoker, non_smoker, equal_var=False)[1]\n",
    "if pval < 0.05:\n",
    "    print('There is a difference in BMI based on smoking status.')\n",
    "else: \n",
    "    print('There is no difference in BMI based on smoking status.')"
   ]
  },
  {
   "cell_type": "code",
   "execution_count": 11,
   "id": "fe6092de",
   "metadata": {
    "execution": {
     "iopub.execute_input": "2024-03-04T08:48:39.993851Z",
     "iopub.status.busy": "2024-03-04T08:48:39.993056Z",
     "iopub.status.idle": "2024-03-04T08:49:02.675466Z",
     "shell.execute_reply": "2024-03-04T08:49:02.673861Z"
    },
    "papermill": {
     "duration": 22.710181,
     "end_time": "2024-03-04T08:49:02.678313",
     "exception": false,
     "start_time": "2024-03-04T08:48:39.968132",
     "status": "completed"
    },
    "tags": []
   },
   "outputs": [
    {
     "data": {
      "image/png": "[encoded data removed]",
      "text/plain": [
       "<Figure size 2000x500 with 2 Axes>"
      ]
     },
     "metadata": {},
     "output_type": "display_data"
    }
   ],
   "source": [
    "import matplotlib.pyplot as plt\n",
    "\n",
    "smoker_BMI_cnt = smoker.value_counts(sort=False)\n",
    "non_smoker_BMI_cnt = non_smoker.value_counts(sort=False)\n",
    "\n",
    "fig, axs = plt.subplots(1, 2, figsize=(20,5))\n",
    "fig.suptitle('Title')\n",
    "width = 0.4\n",
    "axs[0].bar(smoker_BMI_cnt.index, smoker_BMI_cnt.values)\n",
    "axs[0].set_title('Smoker')\n",
    "axs[0].set_xlabel('BMI')\n",
    "axs[0].set_ylabel('Count')\n",
    "axs[1].bar(non_smoker_BMI_cnt.index, non_smoker_BMI_cnt.values)\n",
    "axs[1].set_title('Non-Smoker')\n",
    "axs[1].set_xlabel('BMI')\n",
    "axs[1].set_ylabel('Count')\n",
    "plt.show()"
   ]
  },
  {
   "cell_type": "code",
   "execution_count": 12,
   "id": "bf52c2f9",
   "metadata": {
    "execution": {
     "iopub.execute_input": "2024-03-04T08:49:02.727084Z",
     "iopub.status.busy": "2024-03-04T08:49:02.726673Z",
     "iopub.status.idle": "2024-03-04T08:49:22.119695Z",
     "shell.execute_reply": "2024-03-04T08:49:22.117870Z"
    },
    "papermill": {
     "duration": 19.421481,
     "end_time": "2024-03-04T08:49:22.123485",
     "exception": false,
     "start_time": "2024-03-04T08:49:02.702004",
     "status": "completed"
    },
    "tags": []
   },
   "outputs": [
    {
     "name": "stdout",
     "output_type": "stream",
     "text": [
      "Collecting Pingouin\r\n",
      "  Downloading pingouin-0.5.4-py2.py3-none-any.whl.metadata (1.1 kB)\r\n",
      "Requirement already satisfied: numpy in /opt/conda/lib/python3.10/site-packages (from Pingouin) (1.26.4)\r\n",
      "Requirement already satisfied: scipy in /opt/conda/lib/python3.10/site-packages (from Pingouin) (1.11.4)\r\n",
      "Requirement already satisfied: pandas>=1.5 in /opt/conda/lib/python3.10/site-packages (from Pingouin) (2.2.0)\r\n",
      "Requirement already satisfied: matplotlib in /opt/conda/lib/python3.10/site-packages (from Pingouin) (3.7.5)\r\n",
      "Requirement already satisfied: seaborn in /opt/conda/lib/python3.10/site-packages (from Pingouin) (0.12.2)\r\n",
      "Requirement already satisfied: statsmodels in /opt/conda/lib/python3.10/site-packages (from Pingouin) (0.14.1)\r\n",
      "Requirement already satisfied: scikit-learn in /opt/conda/lib/python3.10/site-packages (from Pingouin) (1.2.2)\r\n",
      "Collecting pandas-flavor (from Pingouin)\r\n",
      "  Downloading pandas_flavor-0.6.0-py3-none-any.whl.metadata (6.3 kB)\r\n",
      "Requirement already satisfied: tabulate in /opt/conda/lib/python3.10/site-packages (from Pingouin) (0.9.0)\r\n",
      "Requirement already satisfied: python-dateutil>=2.8.2 in /opt/conda/lib/python3.10/site-packages (from pandas>=1.5->Pingouin) (2.8.2)\r\n",
      "Requirement already satisfied: pytz>=2020.1 in /opt/conda/lib/python3.10/site-packages (from pandas>=1.5->Pingouin) (2023.3.post1)\r\n",
      "Requirement already satisfied: tzdata>=2022.7 in /opt/conda/lib/python3.10/site-packages (from pandas>=1.5->Pingouin) (2023.4)\r\n",
      "Requirement already satisfied: contourpy>=1.0.1 in /opt/conda/lib/python3.10/site-packages (from matplotlib->Pingouin) (1.2.0)\r\n",
      "Requirement already satisfied: cycler>=0.10 in /opt/conda/lib/python3.10/site-packages (from matplotlib->Pingouin) (0.12.1)\r\n",
      "Requirement already satisfied: fonttools>=4.22.0 in /opt/conda/lib/python3.10/site-packages (from matplotlib->Pingouin) (4.47.0)\r\n",
      "Requirement already satisfied: kiwisolver>=1.0.1 in /opt/conda/lib/python3.10/site-packages (from matplotlib->Pingouin) (1.4.5)\r\n",
      "Requirement already satisfied: packaging>=20.0 in /opt/conda/lib/python3.10/site-packages (from matplotlib->Pingouin) (21.3)\r\n",
      "Requirement already satisfied: pillow>=6.2.0 in /opt/conda/lib/python3.10/site-packages (from matplotlib->Pingouin) (9.5.0)\r\n",
      "Requirement already satisfied: pyparsing>=2.3.1 in /opt/conda/lib/python3.10/site-packages (from matplotlib->Pingouin) (3.1.1)\r\n",
      "Requirement already satisfied: xarray in /opt/conda/lib/python3.10/site-packages (from pandas-flavor->Pingouin) (2024.2.0)\r\n",
      "Requirement already satisfied: joblib>=1.1.1 in /opt/conda/lib/python3.10/site-packages (from scikit-learn->Pingouin) (1.3.2)\r\n",
      "Requirement already satisfied: threadpoolctl>=2.0.0 in /opt/conda/lib/python3.10/site-packages (from scikit-learn->Pingouin) (3.2.0)\r\n",
      "Requirement already satisfied: patsy>=0.5.4 in /opt/conda/lib/python3.10/site-packages (from statsmodels->Pingouin) (0.5.6)\r\n",
      "Requirement already satisfied: six in /opt/conda/lib/python3.10/site-packages (from patsy>=0.5.4->statsmodels->Pingouin) (1.16.0)\r\n",
      "Collecting packaging>=20.0 (from matplotlib->Pingouin)\r\n",
      "  Downloading packaging-23.2-py3-none-any.whl.metadata (3.2 kB)\r\n",
      "Downloading pingouin-0.5.4-py2.py3-none-any.whl (198 kB)\r\n",
      "\u001b[2K   \u001b[90m━━━━━━━━━━━━━━━━━━━━━━━━━━━━━━━━━━━━━━━━\u001b[0m \u001b[32m198.9/198.9 kB\u001b[0m \u001b[31m3.4 MB/s\u001b[0m eta \u001b[36m0:00:00\u001b[0m\r\n",
      "\u001b[?25hDownloading pandas_flavor-0.6.0-py3-none-any.whl (7.2 kB)\r\n",
      "Downloading packaging-23.2-py3-none-any.whl (53 kB)\r\n",
      "\u001b[2K   \u001b[90m━━━━━━━━━━━━━━━━━━━━━━━━━━━━━━━━━━━━━━━━\u001b[0m \u001b[32m53.0/53.0 kB\u001b[0m \u001b[31m2.2 MB/s\u001b[0m eta \u001b[36m0:00:00\u001b[0m\r\n",
      "\u001b[?25hInstalling collected packages: packaging, pandas-flavor, Pingouin\r\n",
      "  Attempting uninstall: packaging\r\n",
      "    Found existing installation: packaging 21.3\r\n",
      "    Uninstalling packaging-21.3:\r\n",
      "      Successfully uninstalled packaging-21.3\r\n",
      "\u001b[31mERROR: pip's dependency resolver does not currently take into account all the packages that are installed. This behaviour is the source of the following dependency conflicts.\r\n",
      "keras-cv 0.8.2 requires keras-core, which is not installed.\r\n",
      "keras-nlp 0.8.1 requires keras-core, which is not installed.\r\n",
      "tensorflow-decision-forests 1.8.1 requires wurlitzer, which is not installed.\r\n",
      "google-cloud-bigquery 2.34.4 requires packaging<22.0dev,>=14.3, but you have packaging 23.2 which is incompatible.\r\n",
      "jupyterlab 4.1.2 requires jupyter-lsp>=2.0.0, but you have jupyter-lsp 1.5.1 which is incompatible.\r\n",
      "jupyterlab-lsp 5.0.3 requires jupyter-lsp>=2.0.0, but you have jupyter-lsp 1.5.1 which is incompatible.\r\n",
      "libpysal 4.9.2 requires shapely>=2.0.1, but you have shapely 1.8.5.post1 which is incompatible.\r\n",
      "momepy 0.7.0 requires shapely>=2, but you have shapely 1.8.5.post1 which is incompatible.\r\n",
      "osmnx 1.9.1 requires shapely>=2.0, but you have shapely 1.8.5.post1 which is incompatible.\r\n",
      "spopt 0.6.0 requires shapely>=2.0.1, but you have shapely 1.8.5.post1 which is incompatible.\r\n",
      "tensorflow 2.15.0 requires keras<2.16,>=2.15.0, but you have keras 3.0.5 which is incompatible.\r\n",
      "ydata-profiling 4.6.4 requires numpy<1.26,>=1.16.0, but you have numpy 1.26.4 which is incompatible.\u001b[0m\u001b[31m\r\n",
      "\u001b[0mSuccessfully installed Pingouin-0.5.4 packaging-23.2 pandas-flavor-0.6.0\r\n",
      "Note: you may need to restart the kernel to use updated packages.\n"
     ]
    }
   ],
   "source": [
    "pip install Pingouin"
   ]
  },
  {
   "cell_type": "markdown",
   "id": "17cdd3d6",
   "metadata": {
    "papermill": {
     "duration": 0.026434,
     "end_time": "2024-03-04T08:49:22.174123",
     "exception": false,
     "start_time": "2024-03-04T08:49:22.147689",
     "status": "completed"
    },
    "tags": []
   },
   "source": [
    "## 3.2 Analysis of Variance(ANOVA)<a class='anchor' id='ch3.2'></a>"
   ]
  },
  {
   "cell_type": "code",
   "execution_count": 13,
   "id": "8d504440",
   "metadata": {
    "execution": {
     "iopub.execute_input": "2024-03-04T08:49:22.230196Z",
     "iopub.status.busy": "2024-03-04T08:49:22.229702Z",
     "iopub.status.idle": "2024-03-04T08:49:23.044905Z",
     "shell.execute_reply": "2024-03-04T08:49:23.043531Z"
    },
    "papermill": {
     "duration": 0.84906,
     "end_time": "2024-03-04T08:49:23.048818",
     "exception": false,
     "start_time": "2024-03-04T08:49:22.199758",
     "status": "completed"
    },
    "tags": []
   },
   "outputs": [],
   "source": [
    "# Test for differences in the mean of the variable for each level of obesity (analysis of variance) \n",
    "# One-way ANOVA (Analysis of Variance)\n",
    "from statsmodels.stats.multicomp import pairwise_tukeyhsd, MultiComparison\n",
    "import pingouin as pg\n",
    "\n",
    "# num_cols - Obesity\n",
    "def levene_anova(col):\n",
    "\n",
    "    target_list = ['Insufficient_Weight', 'Normal_Weight', 'Overweight_Level_I', \n",
    "                   'Overweight_Level_II', 'Obesity_Type_I', 'Obesity_Type_II', 'Obesity_Type_III']\n",
    "    \n",
    "    tar1 = train_data1.loc[train_data1['NObeyesdad'] == 'Insufficient_Weight',col]\n",
    "    tar2 = train_data1.loc[train_data1['NObeyesdad'] == 'Normal_Weight',col]\n",
    "    tar3 = train_data1.loc[train_data1['NObeyesdad'] == 'Overweight_Level_I',col]\n",
    "    tar4 = train_data1.loc[train_data1['NObeyesdad'] == 'Overweight_Level_II',col]\n",
    "    tar5 = train_data1.loc[train_data1['NObeyesdad'] == 'Obesity_Type_I',col]\n",
    "    tar6 = train_data1.loc[train_data1['NObeyesdad'] == 'Obesity_Type_II',col]\n",
    "    tar7 = train_data1.loc[train_data1['NObeyesdad'] == 'Obesity_Type_III',col]\n",
    "\n",
    "    levene = stats.levene(tar1, tar2, tar3, tar4, tar5, tar6, tar7)\n",
    "    \n",
    "    # levene-test\n",
    "    if levene[1] < 0.05:\n",
    "        print(\"MESSAGE: At least one of the variances among the groups is different.\")\n",
    "        # Welch's ANOVA since H0 is rejected\n",
    "        welch = pg.welch_anova(dv=col, between='NObeyesdad', data=train_data1)\n",
    "\n",
    "        if welch['p-unc'].item() < 0.05:\n",
    "            print(f'MESSAGE: Reject the null hypothesis that the {col} are equal between the 7 groups')\n",
    "            \n",
    "            # post-hoc test\n",
    "            mc = MultiComparison(data=train_data1[col], groups=train_data1['NObeyesdad'])\n",
    "            tukeyhsd = mc.tukeyhsd(alpha=0.05)\n",
    "            fig = tukeyhsd.plot_simultaneous()\n",
    "            \n",
    "            print(tukeyhsd.summary())\n",
    "        \n",
    "        else:\n",
    "            print(f'MESSAGE: Accept the null hypothesis that the {col} are equal between the 7 groups')\n",
    "        \n",
    "    else: \n",
    "        print(\"MESSAGE: All groups have equal variances.\")\n",
    "        # ANOVA since H0 is accepted\n",
    "        anova = stats.f_oneway(tar1, tar2, tar3, tar4, tar5, tar6, tar7)\n",
    "        \n",
    "        if anova[1] < 0.05:\n",
    "            print(f'MESSAGE: Reject the null hypothesis that the {col} are equal between the 7 groups')\n",
    "            mc = MultiComparison(data=train_data1[col], groups=train_data1['NObeyesdad'])\n",
    "            tukeyhsd = mc.tukeyhsd(alpha=0.05)\n",
    "            fig = tukeyhsd.plot_simultaneous()\n",
    "            \n",
    "            print(tukeyhsd.summary())\n",
    "        \n",
    "        else:\n",
    "             print(f'MESSAGE: Accept the null hypothesis that the {col} are equal between the 7 groups')"
   ]
  },
  {
   "cell_type": "code",
   "execution_count": 14,
   "id": "e17bb442",
   "metadata": {
    "execution": {
     "iopub.execute_input": "2024-03-04T08:49:23.103827Z",
     "iopub.status.busy": "2024-03-04T08:49:23.103406Z",
     "iopub.status.idle": "2024-03-04T08:49:24.568335Z",
     "shell.execute_reply": "2024-03-04T08:49:24.567172Z"
    },
    "papermill": {
     "duration": 1.494884,
     "end_time": "2024-03-04T08:49:24.571018",
     "exception": false,
     "start_time": "2024-03-04T08:49:23.076134",
     "status": "completed"
    },
    "tags": []
   },
   "outputs": [
    {
     "name": "stdout",
     "output_type": "stream",
     "text": [
      "MESSAGE: At least one of the variances among the groups is different.\n",
      "MESSAGE: Reject the null hypothesis that the NCP are equal between the 7 groups\n",
      "             Multiple Comparison of Means - Tukey HSD, FWER=0.05              \n",
      "==============================================================================\n",
      "       group1              group2       meandiff p-adj   lower   upper  reject\n",
      "------------------------------------------------------------------------------\n",
      "Insufficient_Weight       Normal_Weight    -0.03 0.6487 -0.0836  0.0236  False\n",
      "Insufficient_Weight      Obesity_Type_I   -0.465    0.0 -0.5193 -0.4107   True\n",
      "Insufficient_Weight     Obesity_Type_II  -0.1211    0.0 -0.1741 -0.0682   True\n",
      "Insufficient_Weight    Obesity_Type_III   0.0804 0.0001  0.0298   0.131   True\n",
      "Insufficient_Weight  Overweight_Level_I  -0.3914    0.0 -0.4481 -0.3346   True\n",
      "Insufficient_Weight Overweight_Level_II  -0.3254    0.0 -0.3816 -0.2693   True\n",
      "      Normal_Weight      Obesity_Type_I   -0.435    0.0 -0.4866 -0.3834   True\n",
      "      Normal_Weight     Obesity_Type_II  -0.0911    0.0 -0.1413 -0.0409   True\n",
      "      Normal_Weight    Obesity_Type_III   0.1104    0.0  0.0627  0.1581   True\n",
      "      Normal_Weight  Overweight_Level_I  -0.3614    0.0 -0.4155 -0.3072   True\n",
      "      Normal_Weight Overweight_Level_II  -0.2954    0.0  -0.349 -0.2419   True\n",
      "     Obesity_Type_I     Obesity_Type_II   0.3439    0.0   0.293  0.3948   True\n",
      "     Obesity_Type_I    Obesity_Type_III   0.5454    0.0  0.4969  0.5939   True\n",
      "     Obesity_Type_I  Overweight_Level_I   0.0736 0.0015  0.0188  0.1285   True\n",
      "     Obesity_Type_I Overweight_Level_II   0.1396    0.0  0.0853  0.1938   True\n",
      "    Obesity_Type_II    Obesity_Type_III   0.2015    0.0  0.1545  0.2485   True\n",
      "    Obesity_Type_II  Overweight_Level_I  -0.2703    0.0 -0.3238 -0.2167   True\n",
      "    Obesity_Type_II Overweight_Level_II  -0.2043    0.0 -0.2573 -0.1514   True\n",
      "   Obesity_Type_III  Overweight_Level_I  -0.4718    0.0  -0.523 -0.4205   True\n",
      "   Obesity_Type_III Overweight_Level_II  -0.4058    0.0 -0.4565 -0.3552   True\n",
      " Overweight_Level_I Overweight_Level_II   0.0659  0.011  0.0092  0.1227   True\n",
      "------------------------------------------------------------------------------\n"
     ]
    },
    {
     "data": {
      "image/png": "[encoded data removed]",
      "text/plain": [
       "<Figure size 1000x600 with 1 Axes>"
      ]
     },
     "metadata": {},
     "output_type": "display_data"
    }
   ],
   "source": [
    "levene_anova('NCP')"
   ]
  },
  {
   "cell_type": "code",
   "execution_count": 15,
   "id": "edb9a1d5",
   "metadata": {
    "execution": {
     "iopub.execute_input": "2024-03-04T08:49:24.627335Z",
     "iopub.status.busy": "2024-03-04T08:49:24.626864Z",
     "iopub.status.idle": "2024-03-04T08:49:26.015908Z",
     "shell.execute_reply": "2024-03-04T08:49:26.013694Z"
    },
    "papermill": {
     "duration": 1.421529,
     "end_time": "2024-03-04T08:49:26.019898",
     "exception": false,
     "start_time": "2024-03-04T08:49:24.598369",
     "status": "completed"
    },
    "tags": []
   },
   "outputs": [
    {
     "name": "stdout",
     "output_type": "stream",
     "text": [
      "MESSAGE: At least one of the variances among the groups is different.\n",
      "MESSAGE: Reject the null hypothesis that the CH2O are equal between the 7 groups\n",
      "             Multiple Comparison of Means - Tukey HSD, FWER=0.05              \n",
      "==============================================================================\n",
      "       group1              group2       meandiff p-adj   lower   upper  reject\n",
      "------------------------------------------------------------------------------\n",
      "Insufficient_Weight       Normal_Weight    0.062 0.0012  0.0163  0.1077   True\n",
      "Insufficient_Weight      Obesity_Type_I   0.3856    0.0  0.3393  0.4319   True\n",
      "Insufficient_Weight     Obesity_Type_II   0.2409    0.0  0.1957  0.2861   True\n",
      "Insufficient_Weight    Obesity_Type_III   0.5882    0.0   0.545  0.6313   True\n",
      "Insufficient_Weight  Overweight_Level_I   0.3252    0.0  0.2768  0.3736   True\n",
      "Insufficient_Weight Overweight_Level_II   0.2603    0.0  0.2124  0.3082   True\n",
      "      Normal_Weight      Obesity_Type_I   0.3236    0.0  0.2796  0.3676   True\n",
      "      Normal_Weight     Obesity_Type_II   0.1789    0.0  0.1361  0.2217   True\n",
      "      Normal_Weight    Obesity_Type_III   0.5261    0.0  0.4854  0.5668   True\n",
      "      Normal_Weight  Overweight_Level_I   0.2632    0.0   0.217  0.3094   True\n",
      "      Normal_Weight Overweight_Level_II   0.1983    0.0  0.1526   0.244   True\n",
      "     Obesity_Type_I     Obesity_Type_II  -0.1447    0.0 -0.1882 -0.1013   True\n",
      "     Obesity_Type_I    Obesity_Type_III   0.2026    0.0  0.1612  0.2439   True\n",
      "     Obesity_Type_I  Overweight_Level_I  -0.0604 0.0027 -0.1072 -0.0136   True\n",
      "     Obesity_Type_I Overweight_Level_II  -0.1253    0.0 -0.1716  -0.079   True\n",
      "    Obesity_Type_II    Obesity_Type_III   0.3473    0.0  0.3072  0.3874   True\n",
      "    Obesity_Type_II  Overweight_Level_I   0.0843    0.0  0.0386    0.13   True\n",
      "    Obesity_Type_II Overweight_Level_II   0.0194 0.8672 -0.0258  0.0646  False\n",
      "   Obesity_Type_III  Overweight_Level_I   -0.263    0.0 -0.3067 -0.2193   True\n",
      "   Obesity_Type_III Overweight_Level_II  -0.3279    0.0  -0.371 -0.2847   True\n",
      " Overweight_Level_I Overweight_Level_II  -0.0649 0.0015 -0.1133 -0.0165   True\n",
      "------------------------------------------------------------------------------\n"
     ]
    },
    {
     "data": {
      "image/png": "[encoded data removed]",
      "text/plain": [
       "<Figure size 1000x600 with 1 Axes>"
      ]
     },
     "metadata": {},
     "output_type": "display_data"
    }
   ],
   "source": [
    "levene_anova('CH2O')"
   ]
  },
  {
   "cell_type": "code",
   "execution_count": 16,
   "id": "d6ac334c",
   "metadata": {
    "execution": {
     "iopub.execute_input": "2024-03-04T08:49:26.081745Z",
     "iopub.status.busy": "2024-03-04T08:49:26.081305Z",
     "iopub.status.idle": "2024-03-04T08:49:27.399621Z",
     "shell.execute_reply": "2024-03-04T08:49:27.397984Z"
    },
    "papermill": {
     "duration": 1.353605,
     "end_time": "2024-03-04T08:49:27.402895",
     "exception": false,
     "start_time": "2024-03-04T08:49:26.049290",
     "status": "completed"
    },
    "tags": []
   },
   "outputs": [
    {
     "name": "stdout",
     "output_type": "stream",
     "text": [
      "MESSAGE: At least one of the variances among the groups is different.\n",
      "MESSAGE: Reject the null hypothesis that the TUE are equal between the 7 groups\n",
      "             Multiple Comparison of Means - Tukey HSD, FWER=0.05              \n",
      "==============================================================================\n",
      "       group1              group2       meandiff p-adj   lower   upper  reject\n",
      "------------------------------------------------------------------------------\n",
      "Insufficient_Weight       Normal_Weight  -0.1727    0.0 -0.2194  -0.126   True\n",
      "Insufficient_Weight      Obesity_Type_I  -0.0634 0.0015 -0.1107 -0.0161   True\n",
      "Insufficient_Weight     Obesity_Type_II  -0.3873    0.0 -0.4334 -0.3412   True\n",
      "Insufficient_Weight    Obesity_Type_III  -0.2541    0.0 -0.2982 -0.2099   True\n",
      "Insufficient_Weight  Overweight_Level_I  -0.2459    0.0 -0.2953 -0.1964   True\n",
      "Insufficient_Weight Overweight_Level_II  -0.1049    0.0 -0.1539 -0.0559   True\n",
      "      Normal_Weight      Obesity_Type_I   0.1093    0.0  0.0643  0.1542   True\n",
      "      Normal_Weight     Obesity_Type_II  -0.2146    0.0 -0.2583 -0.1709   True\n",
      "      Normal_Weight    Obesity_Type_III  -0.0814    0.0 -0.1229 -0.0398   True\n",
      "      Normal_Weight  Overweight_Level_I  -0.0732 0.0001 -0.1204  -0.026   True\n",
      "      Normal_Weight Overweight_Level_II   0.0678 0.0004  0.0211  0.1145   True\n",
      "     Obesity_Type_I     Obesity_Type_II  -0.3239    0.0 -0.3683 -0.2795   True\n",
      "     Obesity_Type_I    Obesity_Type_III  -0.1906    0.0 -0.2329 -0.1484   True\n",
      "     Obesity_Type_I  Overweight_Level_I  -0.1825    0.0 -0.2303 -0.1347   True\n",
      "     Obesity_Type_I Overweight_Level_II  -0.0415 0.1302 -0.0888  0.0058  False\n",
      "    Obesity_Type_II    Obesity_Type_III   0.1332    0.0  0.0923  0.1742   True\n",
      "    Obesity_Type_II  Overweight_Level_I   0.1414    0.0  0.0948  0.1881   True\n",
      "    Obesity_Type_II Overweight_Level_II   0.2824    0.0  0.2362  0.3285   True\n",
      "   Obesity_Type_III  Overweight_Level_I   0.0082 0.9983 -0.0365  0.0528  False\n",
      "   Obesity_Type_III Overweight_Level_II   0.1491    0.0   0.105  0.1933   True\n",
      " Overweight_Level_I Overweight_Level_II    0.141    0.0  0.0915  0.1904   True\n",
      "------------------------------------------------------------------------------\n"
     ]
    },
    {
     "data": {
      "image/png": "[encoded data removed]",
      "text/plain": [
       "<Figure size 1000x600 with 1 Axes>"
      ]
     },
     "metadata": {},
     "output_type": "display_data"
    }
   ],
   "source": [
    "levene_anova('TUE')"
   ]
  },
  {
   "cell_type": "markdown",
   "id": "d0efa28b",
   "metadata": {
    "papermill": {
     "duration": 0.029635,
     "end_time": "2024-03-04T08:49:27.461398",
     "exception": false,
     "start_time": "2024-03-04T08:49:27.431763",
     "status": "completed"
    },
    "tags": []
   },
   "source": [
    "## 3.3 Independence test (Chi-square test)<a class='anchor' id='ch3.3'></a>"
   ]
  },
  {
   "cell_type": "code",
   "execution_count": 17,
   "id": "1b9ccad1",
   "metadata": {
    "execution": {
     "iopub.execute_input": "2024-03-04T08:49:27.525006Z",
     "iopub.status.busy": "2024-03-04T08:49:27.524506Z",
     "iopub.status.idle": "2024-03-04T08:49:27.534338Z",
     "shell.execute_reply": "2024-03-04T08:49:27.532736Z"
    },
    "papermill": {
     "duration": 0.046526,
     "end_time": "2024-03-04T08:49:27.537874",
     "exception": false,
     "start_time": "2024-03-04T08:49:27.491348",
     "status": "completed"
    },
    "tags": []
   },
   "outputs": [],
   "source": [
    "from scipy.stats import chi2_contingency\n",
    "# cat_cols-Obesity Cross-tabulation (Independence test, Chi-square test)\n",
    "def chi2(col):\n",
    "    cross_data = pd.crosstab(train_data1[col], train_data['NObeyesdad'])\n",
    "    \n",
    "    chi2, p, dof, expected = chi2_contingency(cross_data)\n",
    "    msg = 'Test Statistic: {}\\np-value: {}\\nDegree of Freedom: {}'\n",
    "    print(msg.format(chi2, p, dof))\n",
    "    if p < 0.05: \n",
    "        print(f'{col} and the obesity risk is dependent.')\n",
    "    else:\n",
    "        print(f'{col} and the obesity risk is independent.')\n",
    "    print(expected)"
   ]
  },
  {
   "cell_type": "code",
   "execution_count": 18,
   "id": "9697ce55",
   "metadata": {
    "execution": {
     "iopub.execute_input": "2024-03-04T08:49:27.599332Z",
     "iopub.status.busy": "2024-03-04T08:49:27.598861Z",
     "iopub.status.idle": "2024-03-04T08:49:27.629940Z",
     "shell.execute_reply": "2024-03-04T08:49:27.627885Z"
    },
    "papermill": {
     "duration": 0.066278,
     "end_time": "2024-03-04T08:49:27.632841",
     "exception": false,
     "start_time": "2024-03-04T08:49:27.566563",
     "status": "completed"
    },
    "tags": []
   },
   "outputs": [
    {
     "name": "stdout",
     "output_type": "stream",
     "text": [
      "Test Statistic: 6423.317090815157\n",
      "p-value: 0.0\n",
      "Degree of Freedom: 6\n",
      "family_history_with_overweight and the obesity risk is dependent.\n",
      "[[ 455.05886887  555.88245496  524.85981308  585.82291165  729.7535408\n",
      "   437.74390596  454.87850467]\n",
      " [2067.94113113 2526.11754504 2385.14018692 2662.17708835 3316.2464592\n",
      "  1989.25609404 2067.12149533]]\n"
     ]
    }
   ],
   "source": [
    "chi2('family_history_with_overweight')"
   ]
  },
  {
   "cell_type": "code",
   "execution_count": 19,
   "id": "85b37341",
   "metadata": {
    "execution": {
     "iopub.execute_input": "2024-03-04T08:49:27.694120Z",
     "iopub.status.busy": "2024-03-04T08:49:27.693728Z",
     "iopub.status.idle": "2024-03-04T08:49:27.718653Z",
     "shell.execute_reply": "2024-03-04T08:49:27.716730Z"
    },
    "papermill": {
     "duration": 0.05858,
     "end_time": "2024-03-04T08:49:27.721904",
     "exception": false,
     "start_time": "2024-03-04T08:49:27.663324",
     "status": "completed"
    },
    "tags": []
   },
   "outputs": [
    {
     "name": "stdout",
     "output_type": "stream",
     "text": [
      "Test Statistic: 6897.329566047414\n",
      "p-value: 0.0\n",
      "Degree of Freedom: 18\n",
      "CAEC and the obesity risk is dependent.\n",
      "[[  58.09779362   70.97003565   67.00934579   74.7925619    93.16832065\n",
      "    55.88717603   58.07476636]\n",
      " [ 300.45553522  367.02495423  346.54205607  386.79333269  481.82445322\n",
      "   289.02321996  300.3364486 ]\n",
      " [2130.5360343  2602.58107718 2457.3364486  2742.75903266 3416.62655362\n",
      "  2049.46926486 2129.69158879]\n",
      " [  33.91063686   41.42393294   39.11214953   43.65507274   54.38067251\n",
      "    32.62033915   33.89719626]]\n"
     ]
    }
   ],
   "source": [
    "chi2('CAEC')"
   ]
  },
  {
   "cell_type": "code",
   "execution_count": 20,
   "id": "ae20c74e",
   "metadata": {
    "execution": {
     "iopub.execute_input": "2024-03-04T08:49:27.781769Z",
     "iopub.status.busy": "2024-03-04T08:49:27.780473Z",
     "iopub.status.idle": "2024-03-04T08:49:27.801142Z",
     "shell.execute_reply": "2024-03-04T08:49:27.799814Z"
    },
    "papermill": {
     "duration": 0.052444,
     "end_time": "2024-03-04T08:49:27.803876",
     "exception": false,
     "start_time": "2024-03-04T08:49:27.751432",
     "status": "completed"
    },
    "tags": []
   },
   "outputs": [
    {
     "name": "stdout",
     "output_type": "stream",
     "text": [
      "Test Statistic: 4013.082706081725\n",
      "p-value: 0.0\n",
      "Degree of Freedom: 12\n",
      "CALC and the obesity risk is dependent.\n",
      "[[  64.29651219   78.54215242   74.1588785    82.77252144  103.10887369\n",
      "    61.85003372   64.27102804]\n",
      " [1831.1743906  2236.89237884 2112.05607477 2357.37392812 2936.55631564\n",
      "  1761.4983139  1830.44859813]\n",
      " [ 627.52909722  766.56546873  723.78504673  807.85355044 1006.33481068\n",
      "   603.65165237  627.28037383]]\n"
     ]
    }
   ],
   "source": [
    "chi2('CALC')"
   ]
  },
  {
   "cell_type": "code",
   "execution_count": 21,
   "id": "1f9c48a5",
   "metadata": {
    "execution": {
     "iopub.execute_input": "2024-03-04T08:49:27.863616Z",
     "iopub.status.busy": "2024-03-04T08:49:27.863170Z",
     "iopub.status.idle": "2024-03-04T08:49:27.886182Z",
     "shell.execute_reply": "2024-03-04T08:49:27.884935Z"
    },
    "papermill": {
     "duration": 0.055068,
     "end_time": "2024-03-04T08:49:27.888773",
     "exception": false,
     "start_time": "2024-03-04T08:49:27.833705",
     "status": "completed"
    },
    "tags": []
   },
   "outputs": [
    {
     "name": "stdout",
     "output_type": "stream",
     "text": [
      "Test Statistic: 2349.082567778232\n",
      "p-value: 0.0\n",
      "Degree of Freedom: 24\n",
      "MTRANS and the obesity risk is dependent.\n",
      "[[ 429.5347336   524.70315059  495.42056075  552.96425475  688.82185182\n",
      "   413.19096252  429.36448598]\n",
      " [   3.88939204    4.75113209    4.48598131    5.00703343    6.23720975\n",
      "     3.74140091    3.88785047]\n",
      " [   4.61865305    5.64196936    5.3271028     5.9458522     7.40668658\n",
      "     4.44291358    4.61682243]\n",
      " [2028.1964062  2477.56691396 2339.29906542 2611.01146546 3252.50997206\n",
      "  1951.02365353 2027.39252336]\n",
      " [  56.76081511   69.33683399   65.46728972   73.07139416   91.0242798\n",
      "    54.60106947   56.73831776]]\n"
     ]
    }
   ],
   "source": [
    "chi2('MTRANS')"
   ]
  },
  {
   "cell_type": "markdown",
   "id": "e6733439",
   "metadata": {
    "papermill": {
     "duration": 0.030278,
     "end_time": "2024-03-04T08:49:27.948344",
     "exception": false,
     "start_time": "2024-03-04T08:49:27.918066",
     "status": "completed"
    },
    "tags": []
   },
   "source": [
    "## VIF\n",
    "Multicollinearity is an important issue in classification analysis. Multicollinearity occurs when there is a strong correlation between independent variables. This means that any one of the independent variables can be expressed as a linear combination of the other independent variables.\n",
    "\n",
    "When multicollinearity occurs, several issues can arise:\n",
    "\n",
    "**Interpretation of the model**: When multicollinearity is present, it can be difficult to accurately interpret the impact of each independent variable. For example, multicollinearity can cause the coefficient on one independent variable to be estimated incorrectly or in the opposite direction than expected.\n",
    "\n",
    "**Model stability**: The presence of multicollinearity can reduce the predictive power of a model. This means that the model is more prone to overfitting the data, and its ability to generalize to new data may be compromised.\n",
    "\n",
    "**Statistical significance**: In the presence of multicollinearity, it can be difficult to determine the statistical significance of a model's regression coefficients. This can make the model's results unreliable.\n",
    "\n",
    "Therefore, when performing classification analysis to avoid multicollinearity, it is important to use methods such as variable selection, variable transformation, and normalization to reduce multicollinearity. Also, when interpreting the results of your model, be careful to consider the presence of multicollinearity."
   ]
  },
  {
   "cell_type": "code",
   "execution_count": 22,
   "id": "d272beba",
   "metadata": {
    "execution": {
     "iopub.execute_input": "2024-03-04T08:49:28.011578Z",
     "iopub.status.busy": "2024-03-04T08:49:28.010333Z",
     "iopub.status.idle": "2024-03-04T08:49:28.355284Z",
     "shell.execute_reply": "2024-03-04T08:49:28.353194Z"
    },
    "papermill": {
     "duration": 0.38238,
     "end_time": "2024-03-04T08:49:28.361407",
     "exception": false,
     "start_time": "2024-03-04T08:49:27.979027",
     "status": "completed"
    },
    "tags": []
   },
   "outputs": [
    {
     "name": "stdout",
     "output_type": "stream",
     "text": [
      "  feature        VIF\n",
      "0      id   3.984522\n",
      "1     Age  21.488351\n",
      "2  Height  75.103311\n",
      "3  Weight  16.335162\n",
      "4    FCVC  22.252531\n",
      "5     NCP  17.411882\n",
      "6    CH2O  13.719299\n",
      "7     FAF   2.700994\n",
      "8     TUE   2.320133\n"
     ]
    }
   ],
   "source": [
    "from statsmodels.stats.outliers_influence import variance_inflation_factor\n",
    "\n",
    "def calculate_vif(X):\n",
    "    vif_data = pd.DataFrame()\n",
    "    vif_data[\"feature\"] = X.columns\n",
    "    vif_data[\"VIF\"] = [variance_inflation_factor(X.values, i) for i in range(X.shape[1])]\n",
    "    return vif_data\n",
    "\n",
    "trial0 =  train_data1[list(train_data.select_dtypes(exclude=['object']).columns)]\n",
    "\n",
    "vif_result = calculate_vif(trial0)\n",
    "print(vif_result)"
   ]
  },
  {
   "cell_type": "markdown",
   "id": "1d116172",
   "metadata": {
    "papermill": {
     "duration": 0.049347,
     "end_time": "2024-03-04T08:49:28.479822",
     "exception": false,
     "start_time": "2024-03-04T08:49:28.430475",
     "status": "completed"
    },
    "tags": []
   },
   "source": [
    "A very high VIF value has been observed for the Height variable. We can either select variables to use for prediction or utilize tree-based models that are less affected by multicollinearity."
   ]
  },
  {
   "cell_type": "markdown",
   "id": "5c33be4b",
   "metadata": {
    "papermill": {
     "duration": 0.030195,
     "end_time": "2024-03-04T08:49:28.543486",
     "exception": false,
     "start_time": "2024-03-04T08:49:28.513291",
     "status": "completed"
    },
    "tags": []
   },
   "source": [
    "# 4. Preprocessing<a class='anchor' id='ch4'></a>"
   ]
  },
  {
   "cell_type": "markdown",
   "id": "f73e8762",
   "metadata": {
    "papermill": {
     "duration": 0.031175,
     "end_time": "2024-03-04T08:49:28.606432",
     "exception": false,
     "start_time": "2024-03-04T08:49:28.575257",
     "status": "completed"
    },
    "tags": []
   },
   "source": [
    "To focus on modeling and hyperparameter tuning, we minimized preprocessing (in fact, preprocessing this data does not improve performance)."
   ]
  },
  {
   "cell_type": "markdown",
   "id": "b059d131",
   "metadata": {
    "papermill": {
     "duration": 0.029228,
     "end_time": "2024-03-04T08:49:28.669869",
     "exception": false,
     "start_time": "2024-03-04T08:49:28.640641",
     "status": "completed"
    },
    "tags": []
   },
   "source": [
    "## Merge Data"
   ]
  },
  {
   "cell_type": "code",
   "execution_count": 23,
   "id": "0c19caf7",
   "metadata": {
    "execution": {
     "iopub.execute_input": "2024-03-04T08:49:28.733184Z",
     "iopub.status.busy": "2024-03-04T08:49:28.732676Z",
     "iopub.status.idle": "2024-03-04T08:49:28.783481Z",
     "shell.execute_reply": "2024-03-04T08:49:28.782205Z"
    },
    "papermill": {
     "duration": 0.086174,
     "end_time": "2024-03-04T08:49:28.786010",
     "exception": false,
     "start_time": "2024-03-04T08:49:28.699836",
     "status": "completed"
    },
    "tags": []
   },
   "outputs": [
    {
     "data": {
      "text/plain": [
       "(22845, 17)"
      ]
     },
     "execution_count": 23,
     "metadata": {},
     "output_type": "execute_result"
    }
   ],
   "source": [
    "train_data = train_data.drop(\"id\", axis=1)\n",
    "train_data = pd.concat([train_data, original_data], ignore_index=True)\n",
    "train_data = train_data.drop_duplicates()\n",
    "train_data.shape"
   ]
  },
  {
   "cell_type": "markdown",
   "id": "48ff76dd",
   "metadata": {
    "papermill": {
     "duration": 0.031381,
     "end_time": "2024-03-04T08:49:28.847893",
     "exception": false,
     "start_time": "2024-03-04T08:49:28.816512",
     "status": "completed"
    },
    "tags": []
   },
   "source": [
    "## Separating numerical variables and categorical variables\n",
    "This is to apply different preprocessing steps (such as StandardScaler, LabelEncoder, etc.) to each type of variable."
   ]
  },
  {
   "cell_type": "code",
   "execution_count": 24,
   "id": "1ae08e0d",
   "metadata": {
    "execution": {
     "iopub.execute_input": "2024-03-04T08:49:28.912871Z",
     "iopub.status.busy": "2024-03-04T08:49:28.912168Z",
     "iopub.status.idle": "2024-03-04T08:49:28.937707Z",
     "shell.execute_reply": "2024-03-04T08:49:28.936167Z"
    },
    "papermill": {
     "duration": 0.061817,
     "end_time": "2024-03-04T08:49:28.940672",
     "exception": false,
     "start_time": "2024-03-04T08:49:28.878855",
     "status": "completed"
    },
    "tags": []
   },
   "outputs": [],
   "source": [
    "num_cols = list(train_data.select_dtypes(exclude=['object']).columns)\n",
    "cat_cols = list(train_data.select_dtypes(include=['object']).columns)\n",
    "\n",
    "num_cols_test = list(test_data.select_dtypes(exclude=['object']).columns)\n",
    "cat_cols_test = list(test_data.select_dtypes(include=['object']).columns)\n",
    "\n",
    "num_cols_test = [col for col in num_cols_test if col not in ['id']]"
   ]
  },
  {
   "cell_type": "code",
   "execution_count": 25,
   "id": "a605f6d1",
   "metadata": {
    "execution": {
     "iopub.execute_input": "2024-03-04T08:49:29.003301Z",
     "iopub.status.busy": "2024-03-04T08:49:29.002844Z",
     "iopub.status.idle": "2024-03-04T08:49:29.059384Z",
     "shell.execute_reply": "2024-03-04T08:49:29.057587Z"
    },
    "papermill": {
     "duration": 0.091275,
     "end_time": "2024-03-04T08:49:29.062370",
     "exception": false,
     "start_time": "2024-03-04T08:49:28.971095",
     "status": "completed"
    },
    "tags": []
   },
   "outputs": [
    {
     "name": "stdout",
     "output_type": "stream",
     "text": [
      "Gender\n",
      "Female    11457\n",
      "Male      11388\n",
      "Name: count, dtype: int64 \n",
      " -----------\n",
      "family_history_with_overweight\n",
      "yes    18736\n",
      "no      4109\n",
      "Name: count, dtype: int64 \n",
      " -----------\n",
      "FAVC\n",
      "yes    20826\n",
      "no      2019\n",
      "Name: count, dtype: int64 \n",
      " -----------\n",
      "CAEC\n",
      "Sometimes     19290\n",
      "Frequently     2708\n",
      "Always          531\n",
      "no              316\n",
      "Name: count, dtype: int64 \n",
      " -----------\n",
      "SMOKE\n",
      "no     22556\n",
      "yes      289\n",
      "Name: count, dtype: int64 \n",
      " -----------\n",
      "SCC\n",
      "no     22062\n",
      "yes      783\n",
      "Name: count, dtype: int64 \n",
      " -----------\n",
      "CALC\n",
      "Sometimes     16446\n",
      "no             5799\n",
      "Frequently      599\n",
      "Always            1\n",
      "Name: count, dtype: int64 \n",
      " -----------\n",
      "MTRANS\n",
      "Public_Transportation    18245\n",
      "Automobile                3990\n",
      "Walking                    522\n",
      "Motorbike                   49\n",
      "Bike                        39\n",
      "Name: count, dtype: int64 \n",
      " -----------\n",
      "NObeyesdad\n",
      "Obesity_Type_III       4370\n",
      "Obesity_Type_II        3545\n",
      "Normal_Weight          3364\n",
      "Obesity_Type_I         3261\n",
      "Overweight_Level_II    2812\n",
      "Insufficient_Weight    2790\n",
      "Overweight_Level_I     2703\n",
      "Name: count, dtype: int64 \n",
      " -----------\n"
     ]
    }
   ],
   "source": [
    "for i in cat_cols:\n",
    "    print(train_data[i].value_counts(), '\\n', '-----------',)"
   ]
  },
  {
   "cell_type": "markdown",
   "id": "ae299386",
   "metadata": {
    "papermill": {
     "duration": 0.029726,
     "end_time": "2024-03-04T08:49:29.121359",
     "exception": false,
     "start_time": "2024-03-04T08:49:29.091633",
     "status": "completed"
    },
    "tags": []
   },
   "source": [
    "## Scaling and Encoding"
   ]
  },
  {
   "cell_type": "markdown",
   "id": "337865d6",
   "metadata": {
    "papermill": {
     "duration": 0.03007,
     "end_time": "2024-03-04T08:49:29.182245",
     "exception": false,
     "start_time": "2024-03-04T08:49:29.152175",
     "status": "completed"
    },
    "tags": []
   },
   "source": [
    "## Standard Scaler\n",
    "\n",
    "Standard Scaler is a preprocessing technique used in machine learning to standardize the features of a dataset. It transforms the data such that it has a mean of 0 and a standard deviation of 1. This process is also known as Z-score normalization. By scaling the features to have the same scale, Standard Scaler helps improve the performance of models that are sensitive to the scale of the input features, such as linear models, logistic regression, and support vector machines. It is important to note that Standard Scaler assumes that the distribution of the features is approximately Gaussian (normal distribution)."
   ]
  },
  {
   "cell_type": "code",
   "execution_count": 26,
   "id": "dea1114b",
   "metadata": {
    "execution": {
     "iopub.execute_input": "2024-03-04T08:49:29.245008Z",
     "iopub.status.busy": "2024-03-04T08:49:29.244586Z",
     "iopub.status.idle": "2024-03-04T08:49:29.419114Z",
     "shell.execute_reply": "2024-03-04T08:49:29.417690Z"
    },
    "papermill": {
     "duration": 0.210399,
     "end_time": "2024-03-04T08:49:29.422298",
     "exception": false,
     "start_time": "2024-03-04T08:49:29.211899",
     "status": "completed"
    },
    "tags": []
   },
   "outputs": [],
   "source": [
    "from sklearn.preprocessing import StandardScaler\n",
    "\n",
    "scaler = StandardScaler()\n",
    "train_data[num_cols] = scaler.fit_transform(train_data[num_cols])\n",
    "test_data[num_cols_test] = scaler.transform(test_data[num_cols_test])"
   ]
  },
  {
   "cell_type": "markdown",
   "id": "bda28f2e",
   "metadata": {
    "papermill": {
     "duration": 0.029241,
     "end_time": "2024-03-04T08:49:29.482745",
     "exception": false,
     "start_time": "2024-03-04T08:49:29.453504",
     "status": "completed"
    },
    "tags": []
   },
   "source": [
    "## Label Encoder\n",
    "\n",
    "Label Encoder is a preprocessing technique used in machine learning to convert categorical labels into numerical values. It assigns a unique integer to each category in the categorical variable. For example, if we have a categorical variable \"Color\" with labels \"Red\", \"Green\", and \"Blue\", Label Encoder would assign 0, 1, and 2 to these labels, respectively. Label Encoder is often used when working with algorithms that require numerical inputs, such as decision trees and support vector machines. However, it is important to note that Label Encoder does not consider any inherent ordinal relationship between categories and simply assigns numerical values based on the order of appearance in the dataset."
   ]
  },
  {
   "cell_type": "code",
   "execution_count": 27,
   "id": "f09b6a25",
   "metadata": {
    "execution": {
     "iopub.execute_input": "2024-03-04T08:49:29.550485Z",
     "iopub.status.busy": "2024-03-04T08:49:29.550060Z",
     "iopub.status.idle": "2024-03-04T08:49:29.659725Z",
     "shell.execute_reply": "2024-03-04T08:49:29.658315Z"
    },
    "papermill": {
     "duration": 0.146279,
     "end_time": "2024-03-04T08:49:29.662762",
     "exception": false,
     "start_time": "2024-03-04T08:49:29.516483",
     "status": "completed"
    },
    "tags": []
   },
   "outputs": [],
   "source": [
    "#  object datatype columns encoding:\n",
    "from sklearn.preprocessing import LabelEncoder\n",
    "labelencoder = LabelEncoder()\n",
    "object_columns = train_data.select_dtypes(include='object').columns.difference(['NObeyesdad'])\n",
    "\n",
    "for col_name in object_columns:\n",
    "    if train_data[col_name].dtypes=='object':\n",
    "        train_data[col_name]=labelencoder.fit_transform(train_data[col_name])\n",
    "        \n",
    "for col_name in test_data.columns:\n",
    "    if test_data[col_name].dtypes=='object':\n",
    "        test_data[col_name]=labelencoder.fit_transform(test_data[col_name])"
   ]
  },
  {
   "cell_type": "markdown",
   "id": "47cc033f",
   "metadata": {
    "papermill": {
     "duration": 0.032621,
     "end_time": "2024-03-04T08:49:29.726805",
     "exception": false,
     "start_time": "2024-03-04T08:49:29.694184",
     "status": "completed"
    },
    "tags": []
   },
   "source": [
    "# Data Seperation"
   ]
  },
  {
   "cell_type": "code",
   "execution_count": 28,
   "id": "807afe1f",
   "metadata": {
    "execution": {
     "iopub.execute_input": "2024-03-04T08:49:29.803824Z",
     "iopub.status.busy": "2024-03-04T08:49:29.803177Z",
     "iopub.status.idle": "2024-03-04T08:49:29.829248Z",
     "shell.execute_reply": "2024-03-04T08:49:29.827729Z"
    },
    "papermill": {
     "duration": 0.068242,
     "end_time": "2024-03-04T08:49:29.832871",
     "exception": false,
     "start_time": "2024-03-04T08:49:29.764629",
     "status": "completed"
    },
    "tags": []
   },
   "outputs": [],
   "source": [
    "train = train_data.drop(['NObeyesdad'], axis=1)\n",
    "y = train_data['NObeyesdad']\n",
    "y_le = labelencoder.fit_transform(y)\n",
    "test = test_data.drop([\"id\"],axis=1)"
   ]
  },
  {
   "cell_type": "code",
   "execution_count": 29,
   "id": "75cec6a5",
   "metadata": {
    "execution": {
     "iopub.execute_input": "2024-03-04T08:49:29.905960Z",
     "iopub.status.busy": "2024-03-04T08:49:29.904326Z",
     "iopub.status.idle": "2024-03-04T08:49:30.078987Z",
     "shell.execute_reply": "2024-03-04T08:49:30.077107Z"
    },
    "papermill": {
     "duration": 0.215422,
     "end_time": "2024-03-04T08:49:30.083195",
     "exception": false,
     "start_time": "2024-03-04T08:49:29.867773",
     "status": "completed"
    },
    "tags": []
   },
   "outputs": [],
   "source": [
    "from sklearn.model_selection import train_test_split\n",
    "X_train, X_val, y_train, y_val = train_test_split(train, y_le, test_size=0.2, random_state=42)"
   ]
  },
  {
   "cell_type": "markdown",
   "id": "2d165a2c",
   "metadata": {
    "papermill": {
     "duration": 0.030893,
     "end_time": "2024-03-04T08:49:30.155873",
     "exception": false,
     "start_time": "2024-03-04T08:49:30.124980",
     "status": "completed"
    },
    "tags": []
   },
   "source": [
    "# 5. Modeling<a class='anchor' id='ch5'></a>"
   ]
  },
  {
   "cell_type": "markdown",
   "id": "4b83365c",
   "metadata": {
    "papermill": {
     "duration": 0.03129,
     "end_time": "2024-03-04T08:49:30.217118",
     "exception": false,
     "start_time": "2024-03-04T08:49:30.185828",
     "status": "completed"
    },
    "tags": []
   },
   "source": [
    "## 5.1 Hyperparameter Tuning<a class='anchor' id='ch5.1'></a>"
   ]
  },
  {
   "cell_type": "code",
   "execution_count": 30,
   "id": "04abd56d",
   "metadata": {
    "execution": {
     "iopub.execute_input": "2024-03-04T08:49:30.292538Z",
     "iopub.status.busy": "2024-03-04T08:49:30.291391Z",
     "iopub.status.idle": "2024-03-04T08:49:30.299083Z",
     "shell.execute_reply": "2024-03-04T08:49:30.297624Z"
    },
    "papermill": {
     "duration": 0.045825,
     "end_time": "2024-03-04T08:49:30.303641",
     "exception": false,
     "start_time": "2024-03-04T08:49:30.257816",
     "status": "completed"
    },
    "tags": []
   },
   "outputs": [],
   "source": [
    "# !pip install optuna"
   ]
  },
  {
   "cell_type": "markdown",
   "id": "4c155163",
   "metadata": {
    "papermill": {
     "duration": 0.031616,
     "end_time": "2024-03-04T08:49:30.365523",
     "exception": false,
     "start_time": "2024-03-04T08:49:30.333907",
     "status": "completed"
    },
    "tags": []
   },
   "source": [
    "The cell below is the process to find the optimal parameters for LightGBMClassifier. To maintain a clean output, I have commented it out. If you are editing and using this notebook, uncomment the code, and replace **'INPUT YOUR RANGE HERE'** with the ranges you want to explore for each parameter."
   ]
  },
  {
   "cell_type": "code",
   "execution_count": 31,
   "id": "b37384af",
   "metadata": {
    "execution": {
     "iopub.execute_input": "2024-03-04T08:49:30.431248Z",
     "iopub.status.busy": "2024-03-04T08:49:30.430369Z",
     "iopub.status.idle": "2024-03-04T08:49:30.446116Z",
     "shell.execute_reply": "2024-03-04T08:49:30.444606Z"
    },
    "papermill": {
     "duration": 0.054104,
     "end_time": "2024-03-04T08:49:30.449608",
     "exception": false,
     "start_time": "2024-03-04T08:49:30.395504",
     "status": "completed"
    },
    "tags": []
   },
   "outputs": [
    {
     "data": {
      "text/plain": [
       "'\\nfrom optuna.samplers import TPESampler\\nimport optuna\\nfrom lightgbm import LGBMClassifier\\nimport logging\\nlogging.getLogger(\\'lightgbm\\').setLevel(logging.INFO)\\nlogging.getLogger(\\'lightgbm\\').setLevel(logging.ERROR)\\n\\n\\n# Define the objective function for Optuna optimization\\ndef objective(trial, X_train, y_train, X_test, y_test):\\n    # Define parameters to be optimized for the LGBMClassifier\\n    param = {\\n        \"objective\": \"multiclass\",\\n        \"metric\": \"multi_logloss\",\\n        \"verbosity\": -1,\\n        \"boosting_type\": \"gbdt\",\\n        \"random_state\": \\'SEED\\',\\n        \"num_class\": \\'NUMBER OF CLASS\\',\\n        \"num_leaves\": trial.suggest_int(\"num_leaves\", \\'INPUT YOUR RANGE HERE\\'),\\n        \"learning_rate\": trial.suggest_float(\"learning_rate\", \\'INPUT YOUR RANGE HERE\\'),\\n        \"n_estimators\": trial.suggest_int(\"n_estimators\", \\'INPUT YOUR RANGE HERE\\'),\\n        \"lambda_l1\": trial.suggest_float(\"lambda_l1\", \\'INPUT YOUR RANGE HERE\\'),\\n        \"lambda_l2\": trial.suggest_float(\"lambda_l2\", \\'INPUT YOUR RANGE HERE\\'),\\n        \"max_depth\": trial.suggest_int(\"max_depth\", \\'INPUT YOUR RANGE HERE\\'),\\n        \"colsample_bytree\": trial.suggest_float(\"colsample_bytree\", \\'INPUT YOUR RANGE HERE\\'),\\n        \"subsample\": trial.suggest_float(\"subsample\", \\'INPUT YOUR RANGE HERE\\'),\\n        \"min_child_samples\": trial.suggest_int(\"min_child_samples\", \\'INPUT YOUR RANGE HERE\\'),\\n    }\\n    # Create an instance of LGBMClassifier with the suggested parameters\\n    lgbm_classifier = LGBMClassifier(**param)\\n\\n    # Fit the classifier on the training data\\n    lgbm_classifier.fit(X_train, y_train)\\n\\n    # Evaluate the classifier on the test data\\n    score = lgbm_classifier.score(X_test, y_test)\\n\\n    return score\\n\\n# Set up the sampler for Optuna optimization\\nsampler = TPESampler(seed=42)  # Using Tree-structured Parzen Estimator sampler for optimization\\n\\n# Create a study object for Optuna optimization\\nstudy = optuna.create_study(direction=\"maximize\", sampler=sampler)\\n\\n# Run the optimization process\\nstudy.optimize(lambda trial: objective(trial, X_train, y_train, X_val, y_val), n_trials=\\'INPUT YOUR NUMBER OF TRIALS\\')\\n\\n# Get the best parameters after optimization\\nbest_params = study.best_params\\nprint(\\'=\\' * 50)\\nprint(best_params)\\n'"
      ]
     },
     "execution_count": 31,
     "metadata": {},
     "output_type": "execute_result"
    }
   ],
   "source": [
    "'''\n",
    "from optuna.samplers import TPESampler\n",
    "import optuna\n",
    "from lightgbm import LGBMClassifier\n",
    "import logging\n",
    "logging.getLogger('lightgbm').setLevel(logging.INFO)\n",
    "logging.getLogger('lightgbm').setLevel(logging.ERROR)\n",
    "\n",
    "\n",
    "# Define the objective function for Optuna optimization\n",
    "def objective(trial, X_train, y_train, X_test, y_test):\n",
    "    # Define parameters to be optimized for the LGBMClassifier\n",
    "    param = {\n",
    "        \"objective\": \"multiclass\",\n",
    "        \"metric\": \"multi_logloss\",\n",
    "        \"verbosity\": -1,\n",
    "        \"boosting_type\": \"gbdt\",\n",
    "        \"random_state\": 'SEED',\n",
    "        \"num_class\": 'NUMBER OF CLASS',\n",
    "        \"num_leaves\": trial.suggest_int(\"num_leaves\", 'INPUT YOUR RANGE HERE'),\n",
    "        \"learning_rate\": trial.suggest_float(\"learning_rate\", 'INPUT YOUR RANGE HERE'),\n",
    "        \"n_estimators\": trial.suggest_int(\"n_estimators\", 'INPUT YOUR RANGE HERE'),\n",
    "        \"lambda_l1\": trial.suggest_float(\"lambda_l1\", 'INPUT YOUR RANGE HERE'),\n",
    "        \"lambda_l2\": trial.suggest_float(\"lambda_l2\", 'INPUT YOUR RANGE HERE'),\n",
    "        \"max_depth\": trial.suggest_int(\"max_depth\", 'INPUT YOUR RANGE HERE'),\n",
    "        \"colsample_bytree\": trial.suggest_float(\"colsample_bytree\", 'INPUT YOUR RANGE HERE'),\n",
    "        \"subsample\": trial.suggest_float(\"subsample\", 'INPUT YOUR RANGE HERE'),\n",
    "        \"min_child_samples\": trial.suggest_int(\"min_child_samples\", 'INPUT YOUR RANGE HERE'),\n",
    "    }\n",
    "    # Create an instance of LGBMClassifier with the suggested parameters\n",
    "    lgbm_classifier = LGBMClassifier(**param)\n",
    "\n",
    "    # Fit the classifier on the training data\n",
    "    lgbm_classifier.fit(X_train, y_train)\n",
    "\n",
    "    # Evaluate the classifier on the test data\n",
    "    score = lgbm_classifier.score(X_test, y_test)\n",
    "\n",
    "    return score\n",
    "\n",
    "# Set up the sampler for Optuna optimization\n",
    "sampler = TPESampler(seed=42)  # Using Tree-structured Parzen Estimator sampler for optimization\n",
    "\n",
    "# Create a study object for Optuna optimization\n",
    "study = optuna.create_study(direction=\"maximize\", sampler=sampler)\n",
    "\n",
    "# Run the optimization process\n",
    "study.optimize(lambda trial: objective(trial, X_train, y_train, X_val, y_val), n_trials='INPUT YOUR NUMBER OF TRIALS')\n",
    "\n",
    "# Get the best parameters after optimization\n",
    "best_params = study.best_params\n",
    "print('=' * 50)\n",
    "print(best_params)\n",
    "'''"
   ]
  },
  {
   "cell_type": "markdown",
   "id": "870d0576",
   "metadata": {
    "papermill": {
     "duration": 0.031326,
     "end_time": "2024-03-04T08:49:30.512076",
     "exception": false,
     "start_time": "2024-03-04T08:49:30.480750",
     "status": "completed"
    },
    "tags": []
   },
   "source": [
    "## 5.2 LGBMClassifier<a class='anchor' id='ch5.2'></a>\n",
    "\n",
    "LGBMClassifier is a machine learning algorithm based on the LightGBM framework, which stands for Light Gradient Boosting Machine. It is a type of gradient boosting algorithm that is optimized for speed and performance, especially when dealing with large datasets and high-dimensional features. LGBMClassifier builds decision trees in a leaf-wise manner rather than level-wise, which helps reduce the loss function more effectively. This algorithm is known for its efficiency, scalability, and ability to handle large-scale datasets with millions of samples and features. LGBMClassifier is widely used for classification tasks and is popular in various machine learning competitions and real-world applications.\n"
   ]
  },
  {
   "cell_type": "code",
   "execution_count": 32,
   "id": "dcb2046f",
   "metadata": {
    "execution": {
     "iopub.execute_input": "2024-03-04T08:49:30.575973Z",
     "iopub.status.busy": "2024-03-04T08:49:30.575246Z",
     "iopub.status.idle": "2024-03-04T08:49:58.564638Z",
     "shell.execute_reply": "2024-03-04T08:49:58.562749Z"
    },
    "papermill": {
     "duration": 28.025576,
     "end_time": "2024-03-04T08:49:58.567569",
     "exception": false,
     "start_time": "2024-03-04T08:49:30.541993",
     "status": "completed"
    },
    "tags": []
   },
   "outputs": [],
   "source": [
    "from lightgbm import LGBMClassifier\n",
    "import lightgbm as lgb\n",
    "import logging\n",
    "logging.getLogger('lightgbm').setLevel(logging.INFO)\n",
    "logging.getLogger('lightgbm').setLevel(logging.ERROR)\n",
    "\n",
    "best_params = {\"objective\": \"multiclass\",          \n",
    "    \"metric\": \"multi_logloss\",          \n",
    "    \"verbosity\": -1,                    \n",
    "    \"boosting_type\": \"gbdt\",            \n",
    "    \"random_state\": 42,       \n",
    "    \"num_class\": 7,                     \n",
    "    'learning_rate': 0.030962211546832760,  \n",
    "    'n_estimators': 500,                \n",
    "    'lambda_l1': 0.009667446568254372,  \n",
    "    'lambda_l2': 0.04018641437301800,   \n",
    "    'max_depth': 10,                    \n",
    "    'colsample_bytree': 0.40977129346872643,  \n",
    "    'subsample': 0.9535797422450176,   \n",
    "    'min_child_samples': 26}\n",
    "\n",
    "model_lgb = lgb.LGBMClassifier(**best_params, verbose=100)\n",
    "model_lgb.fit(X_train, y_train)\n",
    "pred_lgb = model_lgb.predict(X_val)\n",
    "pred_proba = model_lgb.predict_proba(X_val)"
   ]
  },
  {
   "cell_type": "markdown",
   "id": "c855df09",
   "metadata": {
    "papermill": {
     "duration": 0.030028,
     "end_time": "2024-03-04T08:49:58.628117",
     "exception": false,
     "start_time": "2024-03-04T08:49:58.598089",
     "status": "completed"
    },
    "tags": []
   },
   "source": [
    "## Defining the thresholds for each class"
   ]
  },
  {
   "cell_type": "code",
   "execution_count": 33,
   "id": "a4e74c42",
   "metadata": {
    "execution": {
     "iopub.execute_input": "2024-03-04T08:49:58.694551Z",
     "iopub.status.busy": "2024-03-04T08:49:58.693787Z",
     "iopub.status.idle": "2024-03-04T08:50:00.363085Z",
     "shell.execute_reply": "2024-03-04T08:50:00.361769Z"
    },
    "papermill": {
     "duration": 1.705722,
     "end_time": "2024-03-04T08:50:00.366498",
     "exception": false,
     "start_time": "2024-03-04T08:49:58.660776",
     "status": "completed"
    },
    "tags": []
   },
   "outputs": [],
   "source": [
    "import optuna\n",
    "\n",
    "def objective(trial):\n",
    "    # Define the thresholds for each class\n",
    "    thresholds = {}\n",
    "    for i in range(num_classes):\n",
    "        thresholds[f'threshold_{i}'] = trial.suggest_uniform(f'threshold_{i}', 0.0, 1.0)\n",
    "\n",
    "    # Apply the thresholds to convert probabilities to predictions\n",
    "    y_pred = apply_thresholds(pred_proba, thresholds)\n",
    "\n",
    "    # Calculate accuracy\n",
    "    accuracy = accuracy_score(y_val, y_pred)\n",
    "    return accuracy  \n",
    "\n",
    "def apply_thresholds(y_proba, thresholds):\n",
    "    # Apply the specified thresholds to convert probabilities to predicted labels\n",
    "    y_pred_labels = np.argmax(y_proba, axis=1)\n",
    "    for i in range(y_proba.shape[1]):\n",
    "        y_pred_labels[y_proba[:, i] > thresholds[f'threshold_{i}']] = i\n",
    "\n",
    "    return y_pred_labels"
   ]
  },
  {
   "cell_type": "markdown",
   "id": "9542a8e0",
   "metadata": {
    "papermill": {
     "duration": 0.031974,
     "end_time": "2024-03-04T08:50:00.429912",
     "exception": false,
     "start_time": "2024-03-04T08:50:00.397938",
     "status": "completed"
    },
    "tags": []
   },
   "source": [
    "## Prediction"
   ]
  },
  {
   "cell_type": "markdown",
   "id": "7f3c6449",
   "metadata": {
    "papermill": {
     "duration": 0.02955,
     "end_time": "2024-03-04T08:50:00.489442",
     "exception": false,
     "start_time": "2024-03-04T08:50:00.459892",
     "status": "completed"
    },
    "tags": []
   },
   "source": [
    "The cell below, aiming to find the optimal thresholds for classification, is also commented out for a clean output. If you wish to check the values, you can uncomment the code and adjust parameters like n_trial accordingly."
   ]
  },
  {
   "cell_type": "code",
   "execution_count": 34,
   "id": "33efda73",
   "metadata": {
    "execution": {
     "iopub.execute_input": "2024-03-04T08:50:00.552732Z",
     "iopub.status.busy": "2024-03-04T08:50:00.551358Z",
     "iopub.status.idle": "2024-03-04T08:50:00.559402Z",
     "shell.execute_reply": "2024-03-04T08:50:00.558478Z"
    },
    "papermill": {
     "duration": 0.042717,
     "end_time": "2024-03-04T08:50:00.562297",
     "exception": false,
     "start_time": "2024-03-04T08:50:00.519580",
     "status": "completed"
    },
    "tags": []
   },
   "outputs": [],
   "source": [
    "from sklearn.metrics import classification_report, confusion_matrix,accuracy_score\n",
    "import warnings\n",
    "warnings.filterwarnings('ignore')\n",
    "warnings.filterwarnings(\"ignore\", category=UserWarning)\n",
    "warnings.filterwarnings(\"ignore\", category=DeprecationWarning)\n",
    "\n",
    "num_classes = 7\n",
    "\n",
    "# study = optuna.create_study(direction='maximize')\n",
    "# study.optimize(objective, n_trials='INPUT YOUR NUMBER OF TRIALS')\n",
    "\n",
    "# # Get the best thresholds\n",
    "# best_thresholds = study.best_params\n",
    "# print(\"Best Thresholds:\", best_thresholds)"
   ]
  },
  {
   "cell_type": "code",
   "execution_count": 35,
   "id": "010015ea",
   "metadata": {
    "execution": {
     "iopub.execute_input": "2024-03-04T08:50:00.626071Z",
     "iopub.status.busy": "2024-03-04T08:50:00.624947Z",
     "iopub.status.idle": "2024-03-04T08:50:00.633021Z",
     "shell.execute_reply": "2024-03-04T08:50:00.631346Z"
    },
    "papermill": {
     "duration": 0.043189,
     "end_time": "2024-03-04T08:50:00.635731",
     "exception": false,
     "start_time": "2024-03-04T08:50:00.592542",
     "status": "completed"
    },
    "tags": []
   },
   "outputs": [],
   "source": [
    "threshold= {'threshold_0': 0.714201213234911, 'threshold_1': 0.6161299800571379, 'threshold_2': 0.29138887902587174, 'threshold_3': 0.3145837593497076, 'threshold_4': 0.8469398340837189, 'threshold_5': 0.6800824438387787, 'threshold_6': 0.35886959729223455}"
   ]
  },
  {
   "cell_type": "code",
   "execution_count": 36,
   "id": "814fc904",
   "metadata": {
    "execution": {
     "iopub.execute_input": "2024-03-04T08:50:00.699242Z",
     "iopub.status.busy": "2024-03-04T08:50:00.698848Z",
     "iopub.status.idle": "2024-03-04T08:50:07.424216Z",
     "shell.execute_reply": "2024-03-04T08:50:07.422850Z"
    },
    "papermill": {
     "duration": 6.761949,
     "end_time": "2024-03-04T08:50:07.428000",
     "exception": false,
     "start_time": "2024-03-04T08:50:00.666051",
     "status": "completed"
    },
    "tags": []
   },
   "outputs": [],
   "source": [
    "test_label = model_lgb.predict_proba(test)\n",
    "test_label = apply_thresholds(test_label, threshold)"
   ]
  },
  {
   "cell_type": "markdown",
   "id": "cf750bd6",
   "metadata": {
    "papermill": {
     "duration": 0.029371,
     "end_time": "2024-03-04T08:50:07.487360",
     "exception": false,
     "start_time": "2024-03-04T08:50:07.457989",
     "status": "completed"
    },
    "tags": []
   },
   "source": [
    "# 6. Submission<a class='anchor' id='ch6'></a>"
   ]
  },
  {
   "cell_type": "code",
   "execution_count": 37,
   "id": "687acb85",
   "metadata": {
    "execution": {
     "iopub.execute_input": "2024-03-04T08:50:07.552628Z",
     "iopub.status.busy": "2024-03-04T08:50:07.552118Z",
     "iopub.status.idle": "2024-03-04T08:50:07.594882Z",
     "shell.execute_reply": "2024-03-04T08:50:07.593709Z"
    },
    "papermill": {
     "duration": 0.078574,
     "end_time": "2024-03-04T08:50:07.598272",
     "exception": false,
     "start_time": "2024-03-04T08:50:07.519698",
     "status": "completed"
    },
    "tags": []
   },
   "outputs": [],
   "source": [
    "pred = labelencoder.inverse_transform(test_label)\n",
    "submission = pd.DataFrame({'id': test_data.id, 'NObeyesdad': pred})\n",
    "submission.to_csv('submission.csv', index=False)"
   ]
  },
  {
   "cell_type": "markdown",
   "id": "89e2aa54",
   "metadata": {
    "papermill": {
     "duration": 0.029018,
     "end_time": "2024-03-04T08:50:07.656563",
     "exception": false,
     "start_time": "2024-03-04T08:50:07.627545",
     "status": "completed"
    },
    "tags": []
   },
   "source": [
    "# 7. Lesson Learned <a class='anchor' id='ch7'></a>"
   ]
  },
  {
   "cell_type": "markdown",
   "id": "53e2bc47",
   "metadata": {
    "papermill": {
     "duration": 0.030749,
     "end_time": "2024-03-04T08:50:07.716581",
     "exception": false,
     "start_time": "2024-03-04T08:50:07.685832",
     "status": "completed"
    },
    "tags": []
   },
   "source": [
    "Statistical theory introduces methodologies such as reducing the size of the data as much as possible to avoid the curse of dimensionality, creating derivatives to vary the data through binning, etc. \n",
    "\n",
    "However, when applied to real-world data, methods such as discarding data that is **\"thought\"** to be unnecessary or using only certain variables can actually reduce predictive performance. \n",
    "\n",
    "📒Therefore, we need to have sufficient knowledge of the data and domain, and strive for optimal prediction and interpretation through various preprocessing and model selection!📒"
   ]
  }
 ],
 "metadata": {
  "kaggle": {
   "accelerator": "none",
   "dataSources": [
    {
     "databundleVersionId": 7609535,
     "sourceId": 68479,
     "sourceType": "competition"
    },
    {
     "datasetId": 4030196,
     "sourceId": 7009925,
     "sourceType": "datasetVersion"
    }
   ],
   "dockerImageVersionId": 30664,
   "isGpuEnabled": false,
   "isInternetEnabled": true,
   "language": "python",
   "sourceType": "notebook"
  },
  "kernelspec": {
   "display_name": "Python 3",
   "language": "python",
   "name": "python3"
  },
  "language_info": {
   "codemirror_mode": {
    "name": "ipython",
    "version": 3
   },
   "file_extension": ".py",
   "mimetype": "text/x-python",
   "name": "python",
   "nbconvert_exporter": "python",
   "pygments_lexer": "ipython3",
   "version": "3.10.13"
  },
  "papermill": {
   "default_parameters": {},
   "duration": 97.012193,
   "end_time": "2024-03-04T08:50:09.880209",
   "environment_variables": {},
   "exception": null,
   "input_path": "__notebook__.ipynb",
   "output_path": "__notebook__.ipynb",
   "parameters": {},
   "start_time": "2024-03-04T08:48:32.868016",
   "version": "2.5.0"
  }
 },
 "nbformat": 4,
 "nbformat_minor": 5
}
